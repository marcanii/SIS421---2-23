{
 "cells": [
  {
   "cell_type": "code",
   "execution_count": null,
   "metadata": {},
   "outputs": [],
   "source": [
    "# importamos las librerias que vamos a utilizar en el notebook\n",
    "\n",
    "import torch # libreria principal\n",
    "import torch.nn as nn # libreria para redes neuronales\n",
    "import torch.optim as optim # libreria para optimizacion\n",
    "from torch.utils.data import DataLoader, Dataset # libreria para cargar los datos\n",
    "import torchvision.transforms as transforms # libreria para transformar los datos\n",
    "from torchvision import models # libreria para modelos pre-entrenados\n",
    "from datasets import load_dataset # libreria para cargar los datos"
   ]
  },
  {
   "cell_type": "code",
   "execution_count": null,
   "metadata": {},
   "outputs": [],
   "source": [
    "# cargamos el dataset de Tiny ImageNet y lo guardamos en la variable dataset\n",
    "dataset = load_dataset(\"zh-plus/tiny-imagenet\")"
   ]
  },
  {
   "cell_type": "code",
   "execution_count": null,
   "metadata": {},
   "outputs": [],
   "source": [
    "# mostramos la estructura del dataset\n",
    "dataset"
   ]
  },
  {
   "cell_type": "code",
   "execution_count": null,
   "metadata": {},
   "outputs": [],
   "source": [
    "# Definir una transformación para el preprocesamiento de imágenes.\n",
    "transform = transforms.Compose([\n",
    "    transforms.Grayscale(num_output_channels=3), # pasar a escala de grises (3 canales)\n",
    "    transforms.Resize((64, 64)), # redimensionar a 64x64\n",
    "    transforms.ToTensor(), # convertir a tensor\n",
    "    transforms.Normalize(mean=[0.485, 0.456, 0.406], std=[0.229, 0.224, 0.225]) # normalizar\n",
    "])"
   ]
  },
  {
   "cell_type": "code",
   "execution_count": null,
   "metadata": {},
   "outputs": [],
   "source": [
    "# Defina su clase de conjunto de datos personalizado\n",
    "class CustomDataset(Dataset):\n",
    "    def __init__(self, dataset, split, transform=None):\n",
    "        self.X = dataset[split]['image'] # cargar imágenes\n",
    "        self.y = dataset[split]['label'] # cargar etiquetas\n",
    "        self.transform = transform\n",
    "\n",
    "    # Devuelve el número de muestras en el conjunto de datos.\n",
    "    def __len__(self):\n",
    "        return len(self.X)\n",
    "\n",
    "    # Devuelve una muestra del conjunto de datos en la posición index.\n",
    "    def __getitem__(self, idx):\n",
    "        img = self.X[idx]\n",
    "        label = self.y[idx]\n",
    "\n",
    "        if self.transform:\n",
    "            img = self.transform(img)\n",
    "\n",
    "        return img, label"
   ]
  },
  {
   "cell_type": "code",
   "execution_count": null,
   "metadata": {},
   "outputs": [],
   "source": [
    "# Cree instancias de su conjunto de datos personalizado para divisiones de entrenamiento y prueba\n",
    "train_dataset = CustomDataset(dataset, 'train', transform=transform)\n",
    "test_dataset = CustomDataset(dataset, 'valid', transform=transform)\n",
    "\n",
    "# Crear cargadores de datos para cargar los datos.\n",
    "batch_size = 64\n",
    "train_loader = DataLoader(train_dataset, batch_size=batch_size, shuffle=True)\n",
    "test_loader = DataLoader(test_dataset, batch_size=batch_size, shuffle=False)"
   ]
  },
  {
   "cell_type": "code",
   "execution_count": null,
   "metadata": {},
   "outputs": [],
   "source": [
    "# usar getitem para obtener una muestra del train_loader\n",
    "img_sample, label_sample = train_loader.dataset[0]\n",
    "img_sample.shape, label_sample.shape"
   ]
  }
 ],
 "metadata": {
  "kernelspec": {
   "display_name": "cuda_user",
   "language": "python",
   "name": "python3"
  },
  "language_info": {
   "name": "python",
   "version": "3.11.4"
  },
  "orig_nbformat": 4
 },
 "nbformat": 4,
 "nbformat_minor": 2
}
