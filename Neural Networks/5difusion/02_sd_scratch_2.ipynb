{
  "cells": [
    {
      "cell_type": "markdown",
      "metadata": {
        "id": "zglcgH751Isu"
      },
      "source": [
        "[![Open In Colab](https://colab.research.google.com/assets/colab-badge.svg)](https://colab.research.google.com/github/juansensio/blog/blob/master/113_sd_scratch_2/113_sd_scratch_2.ipynb)"
      ]
    },
    {
      "cell_type": "markdown",
      "metadata": {
        "id": "JIpQ58Vt1Isx"
      },
      "source": [
        "# Stable Diffusion desde cero - Parte 2"
      ]
    },
    {
      "cell_type": "markdown",
      "metadata": {
        "id": "DvDe2p791Isx"
      },
      "source": [
        "En el post anterior vimos una introducción a los modelos de difusión, implementando Stable Diffusion desde cero para generación de imágenes. Sin embargo las imágenes generadas por el modelo eran aleatorias, si bien se parecen a imágenes del dataset MNIST (el cual usamos para entrenar el modelo). En este post vamos a mejorar nuestra implementación añadiendo la capacidad de controlar la imagen generada, de la misma forma que con Stable Diffusion podemos describir el contenido de la imagen mediante texto.\n",
        "\n",
        "![](https://images.squarespace-cdn.com/content/v1/628be1d26f9ad648b2e202b1/43a38f92-eb67-4218-8789-55250e4b8827/txt2img.png)\n",
        "\n",
        "Seguimos usando el mismo dataset."
      ]
    },
    {
      "cell_type": "code",
      "execution_count": null,
      "metadata": {
        "id": "trnMYl9M1Isx",
        "outputId": "f42e62f7-9e82-4b0a-c3b9-bdecd585bd2a"
      },
      "outputs": [
        {
          "data": {
            "text/plain": [
              "((70000, 28, 28), (70000,))"
            ]
          },
          "execution_count": 16,
          "metadata": {},
          "output_type": "execute_result"
        }
      ],
      "source": [
        "from sklearn.datasets import fetch_openml\n",
        "import numpy as np\n",
        "\n",
        "\n",
        "# mnist = fetch_openml('mnist_784', version=1)\n",
        "# # importante que las imágenes estén en el rango -1, 1\n",
        "# X, Y = 2. * (mnist[\"data\"].values.astype(float).reshape(-1, 28, 28) / 255.) - 1., mnist[\"target\"].values.astype(int)\n",
        "# np.savez_compressed(\"mnist.npz\", X=X, Y=Y)\n",
        "\n",
        "# la descarga puede tardar un rato, así que te recomiendo comentar las líneas anteriores después\n",
        "# de ejecutarlas la primera vez y descomentar las siguientes para cargar los datos desde el disco\n",
        "\n",
        "X, Y = np.load(\"mnist.npz\")[\"X\"], np.load(\"mnist.npz\")[\"Y\"]\n",
        "\n",
        "X.shape, Y.shape"
      ]
    },
    {
      "cell_type": "code",
      "execution_count": null,
      "metadata": {
        "id": "WBs3XYkK1Isy",
        "outputId": "72cf27fe-5302-4952-80e8-7131e68aa3ac"
      },
      "outputs": [
        {
          "data": {
            "image/png": "[encoded data removed]",
            "text/plain": [
              "<Figure size 1000x600 with 15 Axes>"
            ]
          },
          "metadata": {},
          "output_type": "display_data"
        }
      ],
      "source": [
        "import matplotlib as mpl\n",
        "import matplotlib.pyplot as plt\n",
        "import random\n",
        "\n",
        "r, c = 3, 5\n",
        "fig = plt.figure(figsize=(2*c, 2*r))\n",
        "for _r in range(r):\n",
        "    for _c in range(c):\n",
        "        plt.subplot(r, c, _r*c + _c + 1)\n",
        "        ix = random.randint(0, len(X)-1)\n",
        "        plt.imshow(X[ix], cmap='gray')\n",
        "        plt.axis(\"off\")\n",
        "        plt.title(Y[ix])\n",
        "plt.tight_layout()\n",
        "plt.show()"
      ]
    },
    {
      "cell_type": "markdown",
      "metadata": {
        "id": "-uO_xsSd1Isy"
      },
      "source": [
        "## Añadiendo información sobre la imagen a generar"
      ]
    },
    {
      "cell_type": "markdown",
      "metadata": {
        "id": "mbcKY4uJ1Isz"
      },
      "source": [
        "Lo más sencillo que podemos hacer si queremos controlar el comportamiento de nuestro modelo para generar la imagen que queramos es añadir la etiqueta de la que disponemos. Para ello usaremos la misma aproximación que vimos en el post anterior para añadir al modelo información sobre el `step` del `noise scheduler`. En nuestro caso, introduciremos la etiqueta en formato `one-hot encoding`, la proyectaremos a la misma dimensión que el embedding del `step` y los sumaremos."
      ]
    },
    {
      "cell_type": "code",
      "execution_count": null,
      "metadata": {
        "id": "faiGQ5Qy1Isz",
        "outputId": "de04be8a-862a-49c9-dd8d-904729a6f3e8"
      },
      "outputs": [
        {
          "data": {
            "text/plain": [
              "torch.Size([10, 1, 28, 28])"
            ]
          },
          "execution_count": 18,
          "metadata": {},
          "output_type": "execute_result"
        }
      ],
      "source": [
        "from unet import UNet, SinusoidalPositionEmbeddings\n",
        "import math\n",
        "import torch\n",
        "\n",
        "class ConditionalDiffusionModel(torch.nn.Module):\n",
        "\tdef __init__(self, embed_dim=32):\n",
        "\t\tsuper().__init__()\n",
        "\t\tself.time_embed = SinusoidalPositionEmbeddings(embed_dim)\n",
        "\t\tself.label_embed = torch.nn.Linear(10, embed_dim)\n",
        "\t\tself.unet = UNet(in_ch=1 + embed_dim, n_classes=1)\n",
        "\n",
        "\tdef forward(self, x, t, y):\n",
        "\t\tB, C, H, W = x.shape\n",
        "\t\tt = self.time_embed(t)\n",
        "\t\tt = t[:, :, None, None].repeat(1, 1, H, W)\n",
        "\t\ty = torch.nn.functional.one_hot(y, 10).float()\n",
        "\t\ty = self.label_embed(y)\n",
        "\t\ty = y[:, :, None, None].repeat(1, 1, H, W)\n",
        "\t\tt = t + y\n",
        "\t\tx = torch.cat((x, t), dim=1)\n",
        "\t\treturn self.unet(x)\n",
        "\n",
        "model = ConditionalDiffusionModel()\n",
        "output = model(torch.randn(10, 1, 28, 28), torch.randint(0, 1000, (10,)), torch.randint(0, 10, (10,)))\n",
        "output.shape"
      ]
    },
    {
      "cell_type": "markdown",
      "metadata": {
        "id": "tahV_-PA1Is0"
      },
      "source": [
        "A este modelo se le llama `Conditional` ya que está *condicionado* por la información extra que le pasamos (en este caso la etiqueta de la imagen)."
      ]
    },
    {
      "cell_type": "markdown",
      "metadata": {
        "id": "53XmrRP_1Is1"
      },
      "source": [
        "## Entrenamiento del modelo"
      ]
    },
    {
      "cell_type": "markdown",
      "metadata": {
        "id": "NLypQBKb1Is2"
      },
      "source": [
        "Pues con este simple cambio ya tenemos nuestro modelo listo para entrenar. Primero, vamos a actualizar nuestro Dataset."
      ]
    },
    {
      "cell_type": "code",
      "execution_count": null,
      "metadata": {
        "id": "TO3_xt-W1Is2"
      },
      "outputs": [],
      "source": [
        "import numpy as np\n",
        "\n",
        "def noise_scheduler(start=1e-4, end=0.02, steps=1000):\n",
        "\tbetas = torch.linspace(start, end, steps)\n",
        "\talphas = 1. - betas\n",
        "\talphas_hat = torch.cumprod(alphas, axis=0)\n",
        "\treturn betas, alphas, alphas_hat\n",
        "\n",
        "class Dataset(torch.utils.data.Dataset):\n",
        "\tdef __init__(self, X, y, T=1000):\n",
        "\t\tself.X = X\n",
        "\t\tself.y = y\n",
        "\t\tself.T = T\n",
        "\t\tself.betas, self.alphas, self.alphas_hat = noise_scheduler(steps=T)\n",
        "\n",
        "\tdef __len__(self):\n",
        "\t\treturn len(self.X)\n",
        "\n",
        "\tdef __getitem__(self, ix):\n",
        "\t\tim = torch.from_numpy(self.X[ix]) # imagen original\n",
        "\t\tt = torch.randint(0, self.T, (1,))\n",
        "\t\tnoise = torch.randn_like(im) # ruido\n",
        "\t\tx = noise * torch.sqrt(1 - self.alphas_hat[t]) + im * torch.sqrt(self.alphas_hat[t]) # imagen con ruido\n",
        "\t\treturn x.unsqueeze(0).float(), noise.unsqueeze(0).float(), t, self.y[ix]"
      ]
    },
    {
      "cell_type": "markdown",
      "metadata": {
        "id": "zy1tsGIl1Is2"
      },
      "source": [
        "Y ya podemos entrenar el modelo"
      ]
    },
    {
      "cell_type": "code",
      "execution_count": null,
      "metadata": {
        "id": "1tOa2Gub1Is3",
        "outputId": "259020ec-9d99-4cfb-dee6-7255da0f3dc7"
      },
      "outputs": [
        {
          "name": "stderr",
          "output_type": "stream",
          "text": [
            "Epoch 1/10 loss 0.06330: 100%|██████████| 2188/2188 [00:25<00:00, 86.89it/s]\n",
            "Epoch 2/10 loss 0.03659: 100%|██████████| 2188/2188 [00:24<00:00, 87.93it/s]\n",
            "Epoch 3/10 loss 0.03335: 100%|██████████| 2188/2188 [00:25<00:00, 85.91it/s]\n",
            "Epoch 4/10 loss 0.03185: 100%|██████████| 2188/2188 [00:25<00:00, 87.24it/s]\n",
            "Epoch 5/10 loss 0.03065: 100%|██████████| 2188/2188 [00:25<00:00, 85.48it/s]\n",
            "Epoch 6/10 loss 0.02986: 100%|██████████| 2188/2188 [00:25<00:00, 86.58it/s]\n",
            "Epoch 7/10 loss 0.02934: 100%|██████████| 2188/2188 [00:25<00:00, 86.23it/s]\n",
            "Epoch 8/10 loss 0.02821: 100%|██████████| 2188/2188 [00:25<00:00, 86.74it/s]\n",
            "Epoch 9/10 loss 0.02762: 100%|██████████| 2188/2188 [00:25<00:00, 86.33it/s]\n",
            "Epoch 10/10 loss 0.02796: 100%|██████████| 2188/2188 [00:25<00:00, 86.51it/s]\n"
          ]
        }
      ],
      "source": [
        "import tqdm\n",
        "\n",
        "EPOCHS = 10\n",
        "BATCH_SIZE = 32\n",
        "\n",
        "ds = Dataset(X, Y)\n",
        "dl = torch.utils.data.DataLoader(ds, batch_size=BATCH_SIZE, shuffle=True, num_workers=4, pin_memory=True)\n",
        "model = ConditionalDiffusionModel().cuda()\n",
        "optimizer = torch.optim.Adam(model.parameters(), lr=1e-3)\n",
        "\n",
        "model.train()\n",
        "for epoch in range(1, EPOCHS+1):\n",
        "\tlosses = []\n",
        "\tpb = tqdm.tqdm(dl)\n",
        "\tfor im, noise, t, y in pb:\n",
        "\t\tim, noise, t, y = im.cuda(), noise.cuda(), t.cuda().squeeze(-1), y.cuda()\n",
        "\t\toutput = model(im, t, y)\n",
        "\t\tloss = torch.nn.functional.mse_loss(output, noise)\n",
        "\t\tloss.backward()\n",
        "\t\toptimizer.step()\n",
        "\t\toptimizer.zero_grad()\n",
        "\t\tlosses.append(loss.item())\n",
        "\t\tpb.set_description(f'Epoch {epoch}/{EPOCHS} loss {np.mean(losses):.5f}')"
      ]
    },
    {
      "cell_type": "markdown",
      "metadata": {
        "id": "HP3slf2L1Is3"
      },
      "source": [
        "Y podemos generar nuevas imágenes de la siguiente manera, ¡ahora controlando el dígito a generar!"
      ]
    },
    {
      "cell_type": "code",
      "execution_count": null,
      "metadata": {
        "id": "KQbLNZkq1Is3",
        "outputId": "281f667c-55fa-4db1-8f8c-3ee9563ca0f7"
      },
      "outputs": [
        {
          "data": {
            "image/png": "[encoded data removed]",
            "text/plain": [
              "<Figure size 640x480 with 9 Axes>"
            ]
          },
          "metadata": {},
          "output_type": "display_data"
        }
      ],
      "source": [
        "model.eval()\n",
        "\n",
        "x = torch.randn(1, 1, 28, 28).cuda() # ruido inicial\n",
        "y = 9 # la etiqueta\n",
        "\n",
        "r, c = 3, 3\n",
        "fig = plt.figure(dpi=100)\n",
        "for i in range(r*c):\n",
        "\tfor t in reversed(range(ds.T)):\n",
        "\t\twith torch.no_grad():\n",
        "\t\t\toutput = model(x, torch.tensor([t]).cuda(), torch.tensor([y]).long().cuda())\n",
        "\t\tif t > 0:\n",
        "\t\t\tnoise = torch.randn_like(x)\n",
        "\t\telse:\n",
        "\t\t\tnoise = torch.zeros_like(x)\n",
        "\t\tx = 1. / torch.sqrt(ds.alphas[t]) * (x - ((1. - ds.alphas[t])/(torch.sqrt(1. - ds.alphas_hat[t]))) * output) + noise * torch.sqrt(ds.betas[t])\n",
        "\tax = plt.subplot(r, c, i + 1)\n",
        "\tax.imshow(x[0][0].cpu().numpy(), cmap='gray')\n",
        "\tax.axis(\"off\")\n",
        "plt.tight_layout()\n",
        "plt.show()"
      ]
    },
    {
      "cell_type": "markdown",
      "metadata": {
        "id": "eKlg8n2z1Is5"
      },
      "source": [
        "Si bien hemos podido entrenar nuestro modelo los resultados que nos proporciona no son del todo convincentes ni estables. Para ello vamos a necesitar introducir un par de mejoras en nuestro modelo, proceso de entrenamiento y de sampleado."
      ]
    },
    {
      "cell_type": "markdown",
      "metadata": {
        "id": "6EJNoA4m1Is5"
      },
      "source": [
        "## Mejorando el modelo"
      ]
    },
    {
      "cell_type": "markdown",
      "metadata": {
        "id": "ydHKg9xX1Is5"
      },
      "source": [
        "Nuestra UNet sencilla nos ha permitido generar imágenes de dígitos de manera convincente, pero para poder obtener mejores resultados ahora que estamos añadiendo información adicional vamos a necesitar una arquitectura que permita aprovechar esta información en todas las capas del encoder y el decoder (no sólo a la entrada como estamos haciendo ahora).\n",
        "\n",
        "![model](https://github.com/juansensio/blog/blob/master/113_sd_scratch_2/model.png?raw=1)\n",
        "\n",
        "*Imagen extraída de https://www.youtube.com/watch?v=TBCRlnwJtZU."
      ]
    },
    {
      "cell_type": "code",
      "execution_count": null,
      "metadata": {
        "id": "DoeAN_iw1Is6"
      },
      "outputs": [],
      "source": [
        "import torch.nn.functional as F\n",
        "\n",
        "def conv3x3_bn(ci, co):\n",
        "    return torch.nn.Sequential(\n",
        "        torch.nn.Conv2d(ci, co, 3, padding=1),\n",
        "        torch.nn.BatchNorm2d(co),\n",
        "        torch.nn.ReLU(inplace=True)\n",
        "    )\n",
        "\n",
        "\n",
        "class EncoderConv(torch.nn.Module):\n",
        "    def __init__(self, ci, co, embed_dim):\n",
        "        super().__init__()\n",
        "        self.conv = torch.nn.Sequential(\n",
        "            torch.nn.MaxPool2d(2),\n",
        "            conv3x3_bn(ci, co),\n",
        "            conv3x3_bn(co, co),\n",
        "        )\n",
        "        self.embed = torch.nn.Linear(embed_dim, co)\n",
        "\n",
        "    def forward(self, x, t):\n",
        "        x = self.conv(x)\n",
        "        B, C, H, W = x.shape\n",
        "        e = self.embed(t)[:, :, None, None].repeat(1, 1, H, W)\n",
        "        return x + e\n",
        "\n",
        "class DecoderConv(torch.nn.Module):\n",
        "    def __init__(self, ci, co, embed_dim):\n",
        "        super().__init__()\n",
        "        self.upsample = torch.nn.ConvTranspose2d(ci, co, 2, stride=2)\n",
        "        self.conv1 = conv3x3_bn(ci, co)\n",
        "        self.conv2 = conv3x3_bn(co, co)\n",
        "        self.embed = torch.nn.Linear(embed_dim, co)\n",
        "\n",
        "\n",
        "    def forward(self, x1, x2, t):\n",
        "        x1 = self.upsample(x1)\n",
        "        diffX = x2.size()[2] - x1.size()[2]\n",
        "        diffY = x2.size()[3] - x1.size()[3]\n",
        "        x1 = F.pad(x1, (diffX, 0, diffY, 0))\n",
        "        x = torch.cat([x2, x1], dim=1)\n",
        "        x = self.conv1(x)\n",
        "        x = self.conv2(x)\n",
        "        B, C, H, W = x.shape\n",
        "        e = self.embed(t)[:, :, None, None].repeat(1, 1, H, W)\n",
        "        return x + e\n",
        "\n",
        "\n",
        "class UNet2(torch.nn.Module):\n",
        "    def __init__(self, n_classes=1, in_ch=1, embed_dim=32):\n",
        "        super().__init__()\n",
        "        # lista de capas en encoder-decoder con número de filtros\n",
        "        c = [16, 32, 64, 128]\n",
        "        # primera capa conv que recibe la imagen\n",
        "        self.conv1 = torch.nn.Sequential(\n",
        "            conv3x3_bn(in_ch, c[0]),\n",
        "            conv3x3_bn(c[0], c[0]),\n",
        "        )\n",
        "        # capas del encoder\n",
        "        self.conv2 = EncoderConv(c[0], c[1], embed_dim)\n",
        "        self.conv3 = EncoderConv(c[1], c[2], embed_dim)\n",
        "        self.conv4 = EncoderConv(c[2], c[3], embed_dim)\n",
        "        # capas del decoder\n",
        "        self.deconv1 = DecoderConv(c[3], c[2], embed_dim)\n",
        "        self.deconv2 = DecoderConv(c[2], c[1], embed_dim)\n",
        "        self.deconv3 = DecoderConv(c[1], c[0], embed_dim)\n",
        "        # útlima capa conv que nos da la máscara\n",
        "        self.out = torch.nn.Conv2d(c[0], n_classes, 3, padding=1)\n",
        "\n",
        "    def forward(self, x, t):\n",
        "        # encoder\n",
        "        x1 = self.conv1(x)\n",
        "        x2 = self.conv2(x1, t)\n",
        "        x3 = self.conv3(x2, t)\n",
        "        x = self.conv4(x3, t)\n",
        "        # decoder\n",
        "        x = self.deconv1(x, x3, t)\n",
        "        x = self.deconv2(x, x2, t)\n",
        "        x = self.deconv3(x, x1, t)\n",
        "        x = self.out(x)\n",
        "        return x\n",
        "\n",
        "class ConditionalDiffusionModel2(torch.nn.Module):\n",
        "    def __init__(self, embed_dim=32):\n",
        "        super().__init__()\n",
        "        self.time_embed = SinusoidalPositionEmbeddings(embed_dim)\n",
        "        self.label_embed = torch.nn.Linear(10, embed_dim)\n",
        "        self.unet = UNet2(in_ch=1, n_classes=1, embed_dim=embed_dim)\n",
        "\n",
        "    def forward(self, x, t, y=None):\n",
        "        B, C, H, W = x.shape\n",
        "        t = self.time_embed(t)\n",
        "        if y is not None:\n",
        "            y = torch.nn.functional.one_hot(y, 10).float()\n",
        "            y = self.label_embed(y)\n",
        "            t = t + y\n",
        "        return self.unet(x, t)"
      ]
    },
    {
      "cell_type": "code",
      "execution_count": null,
      "metadata": {
        "id": "n2jCKPT-1Is6",
        "outputId": "83679d92-f934-43a3-f225-eb8607a4542b"
      },
      "outputs": [
        {
          "data": {
            "text/plain": [
              "torch.Size([10, 1, 28, 28])"
            ]
          },
          "execution_count": 26,
          "metadata": {},
          "output_type": "execute_result"
        }
      ],
      "source": [
        "model = ConditionalDiffusionModel2()\n",
        "output = model(torch.randn(10, 1, 28, 28), torch.randint(0, 1000, (10,)), torch.randint(0, 10, (10,)))\n",
        "output.shape"
      ]
    },
    {
      "cell_type": "markdown",
      "metadata": {
        "id": "LWdD1-3h1Is6"
      },
      "source": [
        "## Mejorando el entrenamiento"
      ]
    },
    {
      "cell_type": "markdown",
      "metadata": {
        "id": "7X2JCVsi1Is7"
      },
      "source": [
        "Para mejorar el entrenamiento usaremos una técnica conocida como `Classifier Free Guidance`. Esta técnica consiste en entrenar el modelo de manera condicional un 90% de las veces e incondicional el 10% restante. De esta manera el modelo aprende a generar imágenes de manera autónoma, pero también aprende a generar imágenes que se parezcan a la etiqueta proporcionada."
      ]
    },
    {
      "cell_type": "code",
      "execution_count": null,
      "metadata": {
        "id": "lbHcqY0o1Is7",
        "outputId": "b6013d27-dc02-4e3d-ebb0-ccfb062da527"
      },
      "outputs": [
        {
          "name": "stderr",
          "output_type": "stream",
          "text": [
            "Epoch 1/10 loss 0.05862: 100%|██████████| 2188/2188 [00:30<00:00, 72.08it/s]\n",
            "Epoch 2/10 loss 0.03633: 100%|██████████| 2188/2188 [00:30<00:00, 71.34it/s]\n",
            "Epoch 3/10 loss 0.03329: 100%|██████████| 2188/2188 [00:30<00:00, 71.91it/s]\n",
            "Epoch 4/10 loss 0.03130: 100%|██████████| 2188/2188 [00:30<00:00, 71.22it/s]\n",
            "Epoch 5/10 loss 0.03013: 100%|██████████| 2188/2188 [00:30<00:00, 71.94it/s]\n",
            "Epoch 6/10 loss 0.02903: 100%|██████████| 2188/2188 [00:30<00:00, 71.66it/s]\n",
            "Epoch 7/10 loss 0.02861: 100%|██████████| 2188/2188 [00:30<00:00, 72.37it/s]\n",
            "Epoch 8/10 loss 0.02810: 100%|██████████| 2188/2188 [00:29<00:00, 72.99it/s]\n",
            "Epoch 9/10 loss 0.02764: 100%|██████████| 2188/2188 [00:29<00:00, 73.68it/s]\n",
            "Epoch 10/10 loss 0.02698: 100%|██████████| 2188/2188 [00:30<00:00, 72.61it/s]\n"
          ]
        }
      ],
      "source": [
        "import tqdm\n",
        "\n",
        "EPOCHS = 10\n",
        "BATCH_SIZE = 32\n",
        "\n",
        "ds = Dataset(X, Y)\n",
        "dl = torch.utils.data.DataLoader(ds, batch_size=BATCH_SIZE, shuffle=True, num_workers=4, pin_memory=True)\n",
        "model = ConditionalDiffusionModel2().cuda()\n",
        "optimizer = torch.optim.Adam(model.parameters(), lr=1e-3)\n",
        "\n",
        "model.train()\n",
        "for epoch in range(1, EPOCHS+1):\n",
        "\tlosses = []\n",
        "\tpb = tqdm.tqdm(dl)\n",
        "\tfor im, noise, t, y in pb:\n",
        "\t\tim, noise, t, y = im.cuda(), noise.cuda(), t.cuda().squeeze(-1), y.cuda()\n",
        "\t\tif np.random.rand() < 0.1:\n",
        "\t\t\ty = None\n",
        "\t\toutput = model(im, t, y)\n",
        "\t\tloss = torch.nn.functional.mse_loss(output, noise)\n",
        "\t\tloss.backward()\n",
        "\t\toptimizer.step()\n",
        "\t\toptimizer.zero_grad()\n",
        "\t\tlosses.append(loss.item())\n",
        "\t\tpb.set_description(f'Epoch {epoch}/{EPOCHS} loss {np.mean(losses):.5f}')"
      ]
    },
    {
      "cell_type": "markdown",
      "metadata": {
        "id": "nzV1dCLt1Is7"
      },
      "source": [
        "## Mejorando el sampleado"
      ]
    },
    {
      "cell_type": "markdown",
      "metadata": {
        "id": "gMgg3dNT1Is7"
      },
      "source": [
        "La última mejora que podemos hacer es la manera en la que sampleamos imágenes. Para ello interpolaremos linealmente entre la predicción condicional y la incondicional."
      ]
    },
    {
      "cell_type": "code",
      "execution_count": null,
      "metadata": {
        "id": "-YyM7xI11Is7",
        "outputId": "27c3f847-0972-4c17-ceb4-92eef623f0e9"
      },
      "outputs": [
        {
          "data": {
            "image/png": "[encoded data removed]",
            "text/plain": [
              "<Figure size 640x480 with 9 Axes>"
            ]
          },
          "metadata": {},
          "output_type": "display_data"
        }
      ],
      "source": [
        "model.eval()\n",
        "\n",
        "x = torch.randn(1, 1, 28, 28).cuda() # ruido inicial\n",
        "y = 9 # la etiqueta\n",
        "cfg = 7.5 # escala del guiado\n",
        "\n",
        "r, c = 3, 3\n",
        "fig = plt.figure(dpi=100)\n",
        "for i in range(r*c):\n",
        "\tfor t in reversed(range(ds.T)):\n",
        "\t\twith torch.no_grad():\n",
        "\t\t\toutput = model(x, torch.tensor([t]).cuda(), torch.tensor([y]).long().cuda())\n",
        "\t\t\toutput_uncond = model(x, torch.tensor([t]).cuda(), None)\n",
        "\t\t\toutput  = torch.lerp(output_uncond, output, cfg)\n",
        "\t\tif t > 0:\n",
        "\t\t\tnoise = torch.randn_like(x)\n",
        "\t\telse:\n",
        "\t\t\tnoise = torch.zeros_like(x)\n",
        "\t\tx = 1. / torch.sqrt(ds.alphas[t]) * (x - ((1. - ds.alphas[t])/(torch.sqrt(1. - ds.alphas_hat[t]))) * output) + noise * torch.sqrt(ds.betas[t])\n",
        "\tax = plt.subplot(r, c, i + 1)\n",
        "\tax.imshow(x[0][0].cpu().numpy(), cmap='gray')\n",
        "\tax.axis(\"off\")\n",
        "plt.tight_layout()\n",
        "plt.show()"
      ]
    },
    {
      "cell_type": "markdown",
      "metadata": {
        "id": "z2lcABTp1Is8"
      },
      "source": [
        "Como podrás observar obtenemos resultados más robustos (ahora si que el modelo siempre nos da una imagen del dígito seleccionado) y también más realistas. Existen otras mejoras que se han publicado recientemente y que te animo a probar en tus experimentos. Algunos ejemplos son el uso de `Exponential Moving Average` (EMA) durante el entrenamiento, usar formulaciones alternativas de UNet con capas residuales o de atención, y muchas otras ya que este campo de la IA está en plena ebullición."
      ]
    },
    {
      "cell_type": "markdown",
      "metadata": {
        "id": "LHpBbroK1Is8"
      },
      "source": [
        "## Resumen"
      ]
    },
    {
      "cell_type": "markdown",
      "metadata": {
        "id": "yimefZTC1Is8"
      },
      "source": [
        "En este post hemos visto como podemos mejorar nuestro modelo de difusión para generar imágenes de dígitos manuscritos convinventes. Para ello hemos introducido en nuestra UNet un vector `one-hot` incluyendo la etiqueta de la imagen provista en el dataset. Además, hemos visto como añadir esta información en todas las etapas del encoder y el decoder para mejores resultados. Otras mejoras que hemos introducido son las presentadas en el paper [`Classifier Free Guidance`](https://arxiv.org/abs/2207.12598), que consisten en entrenar el modelo de manera condicional un 90% de las veces e incondicional el 10% restante, y la interpolación lineal entre la predicción condicional e incondicional a la hora de generar imágenes.\n",
        "\n",
        "En los siguientes posts aprenderemos a generar imágenes a partir de texto (si has estado atento a mis posts anteriores sobre NLP podrás imaginar que en vez de vectores `one-hot` describiendo la etiqueta usaremos vectores densos de embedding pre-entrenados de alguna manera) luego extendermos nuestra implementación para tratar con imágenes de alta resolución, además de seguir introduciendo mejoras interesantes por el camino."
      ]
    }
  ],
  "metadata": {
    "colab": {
      "provenance": []
    },
    "kernelspec": {
      "display_name": "pt2",
      "language": "python",
      "name": "python3"
    },
    "language_info": {
      "codemirror_mode": {
        "name": "ipython",
        "version": 3
      },
      "file_extension": ".py",
      "mimetype": "text/x-python",
      "name": "python",
      "nbconvert_exporter": "python",
      "pygments_lexer": "ipython3",
      "version": "3.11.4"
    },
    "orig_nbformat": 4,
    "vscode": {
      "interpreter": {
        "hash": "df5713aa24e28e94338a5ef8ec01ded311a4cea9df6a4223ba1a2b8350a21262"
      }
    }
  },
  "nbformat": 4,
  "nbformat_minor": 0
}
