{
  "nbformat": 4,
  "nbformat_minor": 0,
  "metadata": {
    "kernelspec": {
      "display_name": "Python 3",
      "language": "python",
      "name": "python3"
    },
    "language_info": {
      "codemirror_mode": {
        "name": "ipython",
        "version": 3
      },
      "file_extension": ".py",
      "mimetype": "text/x-python",
      "name": "python",
      "nbconvert_exporter": "python",
      "pygments_lexer": "ipython3",
      "version": "3.7.6"
    },
    "toc": {
      "base_numbering": 1,
      "nav_menu": {},
      "number_sections": true,
      "sideBar": true,
      "skip_h1_title": false,
      "title_cell": "Table of Contents",
      "title_sidebar": "Contents",
      "toc_cell": false,
      "toc_position": {
        "height": "calc(100% - 180px)",
        "left": "10px",
        "top": "150px",
        "width": "233.594px"
      },
      "toc_section_display": true,
      "toc_window_display": false
    },
    "colab": {
      "provenance": []
    },
    "accelerator": "GPU",
    "gpuClass": "standard"
  },
  "cells": [
    {
      "cell_type": "markdown",
      "metadata": {
        "id": "CtDdCLt1SjJ3"
      },
      "source": [
        "[![Open In Colab](https://colab.research.google.com/assets/colab-badge.svg)](https://colab.research.google.com/github/sensioai/blog/blob/master/026_frameworks/frameworks.ipynb)"
      ]
    },
    {
      "cell_type": "markdown",
      "metadata": {
        "id": "yc7tOoJiSjJ5"
      },
      "source": [
        "# Frameworks de Redes Neuronales"
      ]
    },
    {
      "cell_type": "markdown",
      "metadata": {
        "id": "6WFQ4hTvSjJ6"
      },
      "source": [
        "En el [post]() anterior desarrollamos nuestro propio framework de redes neuronales, un conjunto de clases de `Python` que nos permiten resolver problemas con la arquitectura conocida como `Perceptrón Multicapa`. Si bien nuestro framework es funcional y flexible, requiere que implementemos nueva funcionalidad cada vez que queramos probar algo nuevo. De la misma manera, nuestra implementación no es en ningún caso óptima. Es por este motivo que, hoy en día, la mayoría de investigadores e ingenieros utilizan frameworks desarrollados por terceros para llevar a cabo sus proyectos. Esto mismo es lo que haremos nosotros de ahora en adelante, y en este post vamos a ver algunos de los frameworks más utilizados para poder escoger uno."
      ]
    },
    {
      "cell_type": "markdown",
      "metadata": {
        "id": "i2jvI_kVSjJ6"
      },
      "source": [
        "## ¿Qué le pedimos a un framework?"
      ]
    },
    {
      "cell_type": "markdown",
      "metadata": {
        "id": "QmpKBvWzSjJ7"
      },
      "source": [
        "Ya seas estudiante, investigador, profesional o simplemente curioso llega un momento en el que tenemos que escoger un framework de `Deep Learning`. Hoy en día, la mayoría de frameworks nos ofrecen todo lo que podemos esperar, pero estos son varios puntos a tener en cuenta a la hora de elegir un framework:\n",
        "\n",
        "- Código optimizado\n",
        "- Procesado en paralelo (GPUs, TPUs)\n",
        "- Soporte de la comunidad (nuevas arquitecturas, datasets, ...)\n",
        "- Facilidad de uso (entender lo que se está haciendo)\n",
        "- Ecosistema: investigación, desarrollo y producción (servidores, web, móvil, IoT, ...)\n",
        "\n",
        "Aún así, dependiendo de tu flujo de trabajo o requisitos, es posible que te veas obligado a utilizar un framework en concreto (por ejemplo, CoreML para aplicaciones en iOS). El `Deep Learning` es una tecnología transversal, capaz de impactar multitud de industrias. Esto significa que, cuánto más fácil de utilizar sea un framework para gente que no está familiarizada con el mundo de la programación (médicos, artistas, arquitectos, atletas, ...), más impacto puede tener. Una vez vistas las características que le pedimos a un framework, éstas son las opciones más utilizadas hoy en día:\n",
        "\n",
        "- [Tensorflow](https://www.tensorflow.org/) (Google)\n",
        "- [Pytorch](https://pytorch.org/) (Facebook)\n",
        "- [MXNet](https://mxnet.apache.org/) (Amazon)\n",
        "- [CNTK](https://docs.microsoft.com/en-us/cognitive-toolkit/) (Microsoft)\n",
        "- [CoreML](https://developer.apple.com/documentation/coreml) (Apple - iOS)\n",
        "\n",
        "Puedes investigar los diferentes frameworks, ver ejemplos y probarlos para ver cuál se adapta mejor a tus necesidades. Sin embargo, a día de hoy, los claros ganadores en este ecosistema son `Tensorflow` y `Pytorch`."
      ]
    },
    {
      "cell_type": "markdown",
      "metadata": {
        "id": "KuH5YiyMSjJ7"
      },
      "source": [
        "## Tensorflow"
      ]
    },
    {
      "cell_type": "markdown",
      "metadata": {
        "id": "TS-qnMtqSjJ8"
      },
      "source": [
        "Desarrollado por Google, `Tensorflow` es probablemente el framework más utilizado hoy en día (sobretodo en la industria). Este framework destaca por su gran ecosistema y herramientas disponibles a la hora de desplegar redes neuronales en aplicaciones web o móviles. Desde la publicación de la versión 2.X, se ha facilitado su uso y flexibilidad. Además, gracias a su API de alto nivel `Keras`, los usuarios de este framework pueden disfrutar de una gran funcionalidad con una simple implementación. Vamos a ver como resolver uno de los problemas en los que hemos trabajado anteriormente para comparar nuestra implementación con la que nos ofrece `Tensorflow`.\n",
        "\n",
        "En primer lugar, descargamos el dataset *Iris* para clasificación de flores en 3 clases en función de la longitud y el ancho de sus pétalos."
      ]
    },
    {
      "cell_type": "code",
      "metadata": {
        "ExecuteTime": {
          "end_time": "2020-08-14T13:22:17.834620Z",
          "start_time": "2020-08-14T13:22:17.347600Z"
        },
        "id": "gN0qN8-iSjJ8",
        "outputId": "9cf63877-7eaf-40ed-e3d0-909c1f9dc618",
        "colab": {
          "base_uri": "https://localhost:8080/"
        }
      },
      "source": [
        "from sklearn.datasets import load_iris\n",
        "\n",
        "iris = load_iris()\n",
        "X = iris.data[:, (2, 3)]  # petal length, petal width\n",
        "Y = iris.target\n",
        "\n",
        "# normalización datos\n",
        "X_mean, X_std = X.mean(axis=0), X.std(axis=0)\n",
        "X_norm = (X - X_mean) / X_std\n",
        "\n",
        "X.shape, Y.shape"
      ],
      "execution_count": null,
      "outputs": [
        {
          "output_type": "execute_result",
          "data": {
            "text/plain": [
              "((150, 2), (150,))"
            ]
          },
          "metadata": {},
          "execution_count": 1
        }
      ]
    },
    {
      "cell_type": "code",
      "metadata": {
        "ExecuteTime": {
          "end_time": "2020-08-14T13:22:18.154620Z",
          "start_time": "2020-08-14T13:22:17.835621Z"
        },
        "id": "2SiKNl6oSjJ-",
        "outputId": "9ba332c4-1d2e-4c95-c360-274233d8bbec",
        "colab": {
          "base_uri": "https://localhost:8080/",
          "height": 300
        }
      },
      "source": [
        "import matplotlib.pyplot as plt\n",
        "\n",
        "plt.plot(X[Y==0, 0], X[Y==0, 1], 's', label=\"Iris Setosa\")\n",
        "plt.plot(X[Y==1, 0], X[Y==1, 1], 'x', label=\"Iris Versicolor\")\n",
        "plt.plot(X[Y==2, 0], X[Y==2, 1], 'o', label=\"Iris Virginica\")\n",
        "plt.grid()\n",
        "plt.legend()\n",
        "plt.xlabel('petal length', fontsize=14)\n",
        "plt.ylabel('petal width', fontsize=14)\n",
        "plt.title(\"Iris dataset\", fontsize=14)\n",
        "plt.show()"
      ],
      "execution_count": null,
      "outputs": [
        {
          "output_type": "display_data",
          "data": {
            "text/plain": [
              "<Figure size 432x288 with 1 Axes>"
            ],
            "image/png": "[encoded data removed]"
          },
          "metadata": {
            "needs_background": "light"
          }
        }
      ]
    },
    {
      "cell_type": "markdown",
      "metadata": {
        "id": "P4UUrKNBSjJ_"
      },
      "source": [
        "Para empezar a trabajar con `Tensorflow`, primero tenemos que importarlo. Podrás instalarlo en tu máquina con el comando `pip install tenorflow`."
      ]
    },
    {
      "cell_type": "code",
      "source": [
        "!pip install tensorflow"
      ],
      "metadata": {
        "id": "k-6q6s-Bel5t",
        "colab": {
          "base_uri": "https://localhost:8080/"
        },
        "outputId": "0b5e8ce9-b3f4-4425-8cf4-2387cdf05c78"
      },
      "execution_count": null,
      "outputs": [
        {
          "output_type": "stream",
          "name": "stdout",
          "text": [
            "Looking in indexes: https://pypi.org/simple, https://us-python.pkg.dev/colab-wheels/public/simple/\n",
            "Requirement already satisfied: tensorflow in /usr/local/lib/python3.7/dist-packages (2.8.2+zzzcolab20220527125636)\n",
            "Requirement already satisfied: setuptools in /usr/local/lib/python3.7/dist-packages (from tensorflow) (57.4.0)\n",
            "Requirement already satisfied: keras-preprocessing>=1.1.1 in /usr/local/lib/python3.7/dist-packages (from tensorflow) (1.1.2)\n",
            "Requirement already satisfied: six>=1.12.0 in /usr/local/lib/python3.7/dist-packages (from tensorflow) (1.15.0)\n",
            "Requirement already satisfied: gast>=0.2.1 in /usr/local/lib/python3.7/dist-packages (from tensorflow) (0.5.3)\n",
            "Requirement already satisfied: opt-einsum>=2.3.2 in /usr/local/lib/python3.7/dist-packages (from tensorflow) (3.3.0)\n",
            "Requirement already satisfied: astunparse>=1.6.0 in /usr/local/lib/python3.7/dist-packages (from tensorflow) (1.6.3)\n",
            "Requirement already satisfied: tensorboard<2.9,>=2.8 in /usr/local/lib/python3.7/dist-packages (from tensorflow) (2.8.0)\n",
            "Requirement already satisfied: typing-extensions>=3.6.6 in /usr/local/lib/python3.7/dist-packages (from tensorflow) (4.1.1)\n",
            "Requirement already satisfied: grpcio<2.0,>=1.24.3 in /usr/local/lib/python3.7/dist-packages (from tensorflow) (1.46.3)\n",
            "Requirement already satisfied: google-pasta>=0.1.1 in /usr/local/lib/python3.7/dist-packages (from tensorflow) (0.2.0)\n",
            "Requirement already satisfied: libclang>=9.0.1 in /usr/local/lib/python3.7/dist-packages (from tensorflow) (14.0.1)\n",
            "Requirement already satisfied: wrapt>=1.11.0 in /usr/local/lib/python3.7/dist-packages (from tensorflow) (1.14.1)\n",
            "Requirement already satisfied: tensorflow-estimator<2.9,>=2.8 in /usr/local/lib/python3.7/dist-packages (from tensorflow) (2.8.0)\n",
            "Requirement already satisfied: tensorflow-io-gcs-filesystem>=0.23.1 in /usr/local/lib/python3.7/dist-packages (from tensorflow) (0.26.0)\n",
            "Requirement already satisfied: keras<2.9,>=2.8.0rc0 in /usr/local/lib/python3.7/dist-packages (from tensorflow) (2.8.0)\n",
            "Requirement already satisfied: numpy>=1.20 in /usr/local/lib/python3.7/dist-packages (from tensorflow) (1.21.6)\n",
            "Requirement already satisfied: protobuf<3.20,>=3.9.2 in /usr/local/lib/python3.7/dist-packages (from tensorflow) (3.17.3)\n",
            "Requirement already satisfied: termcolor>=1.1.0 in /usr/local/lib/python3.7/dist-packages (from tensorflow) (1.1.0)\n",
            "Requirement already satisfied: absl-py>=0.4.0 in /usr/local/lib/python3.7/dist-packages (from tensorflow) (1.1.0)\n",
            "Requirement already satisfied: flatbuffers>=1.12 in /usr/local/lib/python3.7/dist-packages (from tensorflow) (2.0)\n",
            "Requirement already satisfied: h5py>=2.9.0 in /usr/local/lib/python3.7/dist-packages (from tensorflow) (3.1.0)\n",
            "Requirement already satisfied: wheel<1.0,>=0.23.0 in /usr/local/lib/python3.7/dist-packages (from astunparse>=1.6.0->tensorflow) (0.37.1)\n",
            "Requirement already satisfied: cached-property in /usr/local/lib/python3.7/dist-packages (from h5py>=2.9.0->tensorflow) (1.5.2)\n",
            "Requirement already satisfied: requests<3,>=2.21.0 in /usr/local/lib/python3.7/dist-packages (from tensorboard<2.9,>=2.8->tensorflow) (2.23.0)\n",
            "Requirement already satisfied: markdown>=2.6.8 in /usr/local/lib/python3.7/dist-packages (from tensorboard<2.9,>=2.8->tensorflow) (3.3.7)\n",
            "Requirement already satisfied: google-auth<3,>=1.6.3 in /usr/local/lib/python3.7/dist-packages (from tensorboard<2.9,>=2.8->tensorflow) (1.35.0)\n",
            "Requirement already satisfied: google-auth-oauthlib<0.5,>=0.4.1 in /usr/local/lib/python3.7/dist-packages (from tensorboard<2.9,>=2.8->tensorflow) (0.4.6)\n",
            "Requirement already satisfied: tensorboard-plugin-wit>=1.6.0 in /usr/local/lib/python3.7/dist-packages (from tensorboard<2.9,>=2.8->tensorflow) (1.8.1)\n",
            "Requirement already satisfied: werkzeug>=0.11.15 in /usr/local/lib/python3.7/dist-packages (from tensorboard<2.9,>=2.8->tensorflow) (1.0.1)\n",
            "Requirement already satisfied: tensorboard-data-server<0.7.0,>=0.6.0 in /usr/local/lib/python3.7/dist-packages (from tensorboard<2.9,>=2.8->tensorflow) (0.6.1)\n",
            "Requirement already satisfied: pyasn1-modules>=0.2.1 in /usr/local/lib/python3.7/dist-packages (from google-auth<3,>=1.6.3->tensorboard<2.9,>=2.8->tensorflow) (0.2.8)\n",
            "Requirement already satisfied: cachetools<5.0,>=2.0.0 in /usr/local/lib/python3.7/dist-packages (from google-auth<3,>=1.6.3->tensorboard<2.9,>=2.8->tensorflow) (4.2.4)\n",
            "Requirement already satisfied: rsa<5,>=3.1.4 in /usr/local/lib/python3.7/dist-packages (from google-auth<3,>=1.6.3->tensorboard<2.9,>=2.8->tensorflow) (4.8)\n",
            "Requirement already satisfied: requests-oauthlib>=0.7.0 in /usr/local/lib/python3.7/dist-packages (from google-auth-oauthlib<0.5,>=0.4.1->tensorboard<2.9,>=2.8->tensorflow) (1.3.1)\n",
            "Requirement already satisfied: importlib-metadata>=4.4 in /usr/local/lib/python3.7/dist-packages (from markdown>=2.6.8->tensorboard<2.9,>=2.8->tensorflow) (4.11.4)\n",
            "Requirement already satisfied: zipp>=0.5 in /usr/local/lib/python3.7/dist-packages (from importlib-metadata>=4.4->markdown>=2.6.8->tensorboard<2.9,>=2.8->tensorflow) (3.8.0)\n",
            "Requirement already satisfied: pyasn1<0.5.0,>=0.4.6 in /usr/local/lib/python3.7/dist-packages (from pyasn1-modules>=0.2.1->google-auth<3,>=1.6.3->tensorboard<2.9,>=2.8->tensorflow) (0.4.8)\n",
            "Requirement already satisfied: chardet<4,>=3.0.2 in /usr/local/lib/python3.7/dist-packages (from requests<3,>=2.21.0->tensorboard<2.9,>=2.8->tensorflow) (3.0.4)\n",
            "Requirement already satisfied: idna<3,>=2.5 in /usr/local/lib/python3.7/dist-packages (from requests<3,>=2.21.0->tensorboard<2.9,>=2.8->tensorflow) (2.10)\n",
            "Requirement already satisfied: certifi>=2017.4.17 in /usr/local/lib/python3.7/dist-packages (from requests<3,>=2.21.0->tensorboard<2.9,>=2.8->tensorflow) (2022.6.15)\n",
            "Requirement already satisfied: urllib3!=1.25.0,!=1.25.1,<1.26,>=1.21.1 in /usr/local/lib/python3.7/dist-packages (from requests<3,>=2.21.0->tensorboard<2.9,>=2.8->tensorflow) (1.24.3)\n",
            "Requirement already satisfied: oauthlib>=3.0.0 in /usr/local/lib/python3.7/dist-packages (from requests-oauthlib>=0.7.0->google-auth-oauthlib<0.5,>=0.4.1->tensorboard<2.9,>=2.8->tensorflow) (3.2.0)\n"
          ]
        }
      ]
    },
    {
      "cell_type": "code",
      "metadata": {
        "ExecuteTime": {
          "end_time": "2020-08-14T13:22:19.803884Z",
          "start_time": "2020-08-14T13:22:18.155621Z"
        },
        "id": "UVgHdYmJSjJ_",
        "outputId": "fa2f42d0-a06c-41f9-916f-56d013881b51",
        "colab": {
          "base_uri": "https://localhost:8080/",
          "height": 36
        }
      },
      "source": [
        "import tensorflow as tf\n",
        "import tensorflow.keras as keras\n",
        "\n",
        "tf.__version__"
      ],
      "execution_count": null,
      "outputs": [
        {
          "output_type": "execute_result",
          "data": {
            "text/plain": [
              "'2.8.2'"
            ],
            "application/vnd.google.colaboratory.intrinsic+json": {
              "type": "string"
            }
          },
          "metadata": {},
          "execution_count": 4
        }
      ]
    },
    {
      "cell_type": "markdown",
      "metadata": {
        "id": "xoN598wkSjJ_"
      },
      "source": [
        "Ahora, definimos la arquitectura de nuestra red neuronal. Para ello tenemos varias opciones, en este caso utilizaremos la API funcional que nos ofrece `Keras`."
      ]
    },
    {
      "cell_type": "code",
      "metadata": {
        "ExecuteTime": {
          "end_time": "2020-08-14T13:22:20.007621Z",
          "start_time": "2020-08-14T13:22:19.805884Z"
        },
        "id": "d_q6_uEnSjKA",
        "outputId": "4fa5a129-7630-4266-c6db-2c311658f9bd",
        "colab": {
          "base_uri": "https://localhost:8080/"
        }
      },
      "source": [
        "inputs = keras.Input(shape=(2,))\n",
        "x = keras.layers.Dense(64, activation=\"relu\")(inputs)\n",
        "outputs = keras.layers.Dense(3)(x)\n",
        "model = keras.Model(inputs=inputs, outputs=outputs)\n",
        "model.summary()"
      ],
      "execution_count": null,
      "outputs": [
        {
          "output_type": "stream",
          "name": "stdout",
          "text": [
            "Model: \"model\"\n",
            "_________________________________________________________________\n",
            " Layer (type)                Output Shape              Param #   \n",
            "=================================================================\n",
            " input_1 (InputLayer)        [(None, 2)]               0         \n",
            "                                                                 \n",
            " dense (Dense)               (None, 64)                192       \n",
            "                                                                 \n",
            " dense_1 (Dense)             (None, 3)                 195       \n",
            "                                                                 \n",
            "=================================================================\n",
            "Total params: 387\n",
            "Trainable params: 387\n",
            "Non-trainable params: 0\n",
            "_________________________________________________________________\n"
          ]
        }
      ]
    },
    {
      "cell_type": "markdown",
      "metadata": {
        "id": "JLaDhXJSSjKB"
      },
      "source": [
        "Como puedes ver, primero definimos la capa `Input` donde indicamos las dimensiones de nuestros datos de entrada. Después, definimos las diferentes capas que queremos utilizar. Aquí, usamos la capa `Dense` que es equivalente a nuestra capa `Linear`, el `Perceptrón`. Como puedes ver, en `Keras` podemos incluir la función de activación directamente en la misma capa. Puedes utilizar el número de capas `Dense` que quieras, siempre y cuando la última tenga tantas neuronas como clases para clasificar (en este caso 3). Una vez definidas las capas, podemos crear el objeto `model` el cual nos ofrece toda la funcionalidad que usaremos de ahora en adelante para entrenar y obtener predicciones. La funcioón `summary` nos da información muy interesante sobre nuestro modelo, como el número de capas, parámetros entrenables, etc. Una vez definida la arquitectura, usamos la función `compile` para indicar qué optimizador usaremos, la función de pérdida (con su correspondiente *learning rate*) y las métricas que deseamos observar durante el entrenamiento."
      ]
    },
    {
      "cell_type": "code",
      "metadata": {
        "ExecuteTime": {
          "end_time": "2020-08-14T13:22:20.023620Z",
          "start_time": "2020-08-14T13:22:20.008621Z"
        },
        "id": "jYQBik_cSjKB",
        "colab": {
          "base_uri": "https://localhost:8080/"
        },
        "outputId": "1eb651f7-6728-4915-b4a4-65011108d6ae"
      },
      "source": [
        "model.compile(\n",
        "    loss=keras.losses.SparseCategoricalCrossentropy(from_logits=True),\n",
        "    optimizer=keras.optimizers.SGD(lr=0.1),\n",
        "    metrics=[\"accuracy\"],\n",
        ")"
      ],
      "execution_count": null,
      "outputs": [
        {
          "output_type": "stream",
          "name": "stderr",
          "text": [
            "/usr/local/lib/python3.7/dist-packages/keras/optimizer_v2/gradient_descent.py:102: UserWarning: The `lr` argument is deprecated, use `learning_rate` instead.\n",
            "  super(SGD, self).__init__(name, **kwargs)\n"
          ]
        }
      ]
    },
    {
      "cell_type": "markdown",
      "metadata": {
        "id": "JIW6DIhfSjKC"
      },
      "source": [
        "Finalmente, podemos entrenar nuestro modelo con la función `fit` indicando el número de epochs y batch size de manera sencilla."
      ]
    },
    {
      "cell_type": "code",
      "metadata": {
        "ExecuteTime": {
          "end_time": "2020-08-14T13:22:20.355621Z",
          "start_time": "2020-08-14T13:22:20.024620Z"
        },
        "id": "lOtwuWDzSjKC",
        "outputId": "c0a7bd9b-52dc-4a31-b485-904c3a8d86a3",
        "colab": {
          "base_uri": "https://localhost:8080/"
        }
      },
      "source": [
        "model.fit(X_norm, Y, batch_size=10, epochs=10)"
      ],
      "execution_count": null,
      "outputs": [
        {
          "output_type": "stream",
          "name": "stdout",
          "text": [
            "Epoch 1/10\n",
            "15/15 [==============================] - 3s 2ms/step - loss: 0.7659 - accuracy: 0.6467\n",
            "Epoch 2/10\n",
            "15/15 [==============================] - 0s 2ms/step - loss: 0.4808 - accuracy: 0.8200\n",
            "Epoch 3/10\n",
            "15/15 [==============================] - 0s 2ms/step - loss: 0.3792 - accuracy: 0.8933\n",
            "Epoch 4/10\n",
            "15/15 [==============================] - 0s 2ms/step - loss: 0.3099 - accuracy: 0.9400\n",
            "Epoch 5/10\n",
            "15/15 [==============================] - 0s 2ms/step - loss: 0.2630 - accuracy: 0.9667\n",
            "Epoch 6/10\n",
            "15/15 [==============================] - 0s 2ms/step - loss: 0.2267 - accuracy: 0.9600\n",
            "Epoch 7/10\n",
            "15/15 [==============================] - 0s 2ms/step - loss: 0.1984 - accuracy: 0.9600\n",
            "Epoch 8/10\n",
            "15/15 [==============================] - 0s 2ms/step - loss: 0.1813 - accuracy: 0.9600\n",
            "Epoch 9/10\n",
            "15/15 [==============================] - 0s 2ms/step - loss: 0.1619 - accuracy: 0.9533\n",
            "Epoch 10/10\n",
            "15/15 [==============================] - 0s 2ms/step - loss: 0.1488 - accuracy: 0.9733\n"
          ]
        },
        {
          "output_type": "execute_result",
          "data": {
            "text/plain": [
              "<keras.callbacks.History at 0x7f6dd00f6490>"
            ]
          },
          "metadata": {},
          "execution_count": 7
        }
      ]
    },
    {
      "cell_type": "markdown",
      "metadata": {
        "id": "ukLhfDRTSjKC"
      },
      "source": [
        "Finalmente, podemos obtener predicciones con la función `predict`, que en este caso utilizamos para generar la visualización de las fronteras de decisión."
      ]
    },
    {
      "cell_type": "code",
      "metadata": {
        "ExecuteTime": {
          "end_time": "2020-08-14T13:22:21.383368Z",
          "start_time": "2020-08-14T13:22:20.357621Z"
        },
        "id": "jxXIUh56SjKC",
        "outputId": "5565422b-c54b-4ffe-fc60-3b73cab28ac9",
        "colab": {
          "base_uri": "https://localhost:8080/",
          "height": 283
        }
      },
      "source": [
        "from matplotlib.colors import ListedColormap\n",
        "import numpy as np\n",
        "\n",
        "def softmax(x):\n",
        "    return np.exp(x) / np.exp(x).sum(axis=-1,keepdims=True)\n",
        "\n",
        "resolution=0.02\n",
        "markers = ('s', 'x', 'o', '^', 'v')\n",
        "colors = ('red', 'blue', 'lightgreen', 'gray', 'cyan')\n",
        "cmap = ListedColormap(colors[:len(np.unique(Y))])\n",
        "\n",
        "# plot the decision surface\n",
        "x1_min, x1_max = X[:, 0].min() - 1, X[:, 0].max() + 1\n",
        "x2_min, x2_max = X[:, 1].min() - 1, X[:, 1].max() + 1\n",
        "xx1, xx2 = np.meshgrid(np.arange(x1_min, x1_max, resolution),\n",
        "                       np.arange(x2_min, x2_max, resolution))\n",
        "X_new = (np.array([xx1.ravel(), xx2.ravel()]).T - X_mean)/X_std\n",
        "\n",
        "# cálculo de predicciones\n",
        "Z = model.predict(X_new)\n",
        "\n",
        "Z = np.argmax(softmax(Z), axis=1)\n",
        "Z = Z.reshape(xx1.shape)\n",
        "plt.contourf(xx1, xx2, Z, alpha=0.3, cmap=cmap)\n",
        "plt.xlim(xx1.min(), xx1.max())\n",
        "plt.ylim(xx2.min(), xx2.max())\n",
        "plt.xlabel('petal length', fontsize=14)\n",
        "plt.ylabel('petal width', fontsize=14)\n",
        "classes = [\"Iris-Setosa\", \"Iris-Versicolor\", \"Iris-Virginica\"]\n",
        "for idx, cl in enumerate(np.unique(Y)):\n",
        "    plt.scatter(x=X[Y == cl, 0],\n",
        "                y=X[Y == cl, 1],\n",
        "                alpha=0.8,\n",
        "                c=colors[idx],\n",
        "                marker=markers[idx],\n",
        "                label=classes[cl],\n",
        "                edgecolor='black')\n",
        "plt.legend(loc='upper left', fontsize=14)\n",
        "plt.show()"
      ],
      "execution_count": null,
      "outputs": [
        {
          "output_type": "display_data",
          "data": {
            "text/plain": [
              "<Figure size 432x288 with 1 Axes>"
            ],
            "image/png": "[encoded data removed]"
          },
          "metadata": {
            "needs_background": "light"
          }
        }
      ]
    },
    {
      "cell_type": "markdown",
      "metadata": {
        "id": "N-qeHJYwSjKD"
      },
      "source": [
        "Como puede ver, `Tensorflow` (y en particular `Keras`) nos permite resolver los problemas que ya conocemos de una manera muy sencilla. Obviamente, hay muchísimo más en `Tensorflow` y `Keras` de lo que hemos visto en este sencillo ejemplo (como por ejemplo guardar y cargar modelos, customizar el bucle de entrenamiento, etc). El objetivo es simplemente el de presentar estas nuevas herramientas y cómo utilizarlas para resolver los casos que hemos visto en posts anteriores. En posts futuros entraremos en más detalle en la funcionalidad que nos ofrece `Tensorflow` resolviendo problemas mucho más interesantes."
      ]
    },
    {
      "cell_type": "markdown",
      "metadata": {
        "id": "WE14k9UhSjKD"
      },
      "source": [
        "## Pytorch"
      ]
    },
    {
      "cell_type": "markdown",
      "metadata": {
        "id": "zEhObNG_SjKD"
      },
      "source": [
        "Una alternativa a `Tensorflow` que está creciendo en popularidad los últimos años (y mi framework favorito) es `Pytorch`. Desarrollado por Facebook, este framework destaca por su facilidad de uso y flexibilidad gracias a su diseño, muy similar al de `NumPy`. Vamos a ver como resolver el mismo problema con este framework. Empezamos, como siempre, importando la librería."
      ]
    },
    {
      "cell_type": "code",
      "metadata": {
        "ExecuteTime": {
          "end_time": "2020-08-14T13:22:21.700362Z",
          "start_time": "2020-08-14T13:22:21.384370Z"
        },
        "id": "8Dx8SPFFSjKE"
      },
      "source": [
        "import torch"
      ],
      "execution_count": null,
      "outputs": []
    },
    {
      "cell_type": "markdown",
      "metadata": {
        "id": "J_YDFVtmSjKE"
      },
      "source": [
        "Puedes instalarlo con el comando `pip install pytorch`, aunque te recomiendo instalarlo con `conda` sobre todo si quieres soporte para GPU (puedes encontrar instricciones de instalación en https://pytorch.org/). Ahora, podemos definir nuestro `MLP` de la siguiente manera"
      ]
    },
    {
      "cell_type": "code",
      "metadata": {
        "ExecuteTime": {
          "end_time": "2020-08-14T13:22:21.715363Z",
          "start_time": "2020-08-14T13:22:21.701364Z"
        },
        "id": "0E7gXWj_SjKE"
      },
      "source": [
        "model = torch.nn.Sequential(\n",
        "    torch.nn.Linear(2, 64),\n",
        "    torch.nn.ReLU(),\n",
        "    torch.nn.Linear(64, 3)\n",
        ")"
      ],
      "execution_count": null,
      "outputs": []
    },
    {
      "cell_type": "code",
      "source": [
        "model"
      ],
      "metadata": {
        "colab": {
          "base_uri": "https://localhost:8080/"
        },
        "id": "hLBvJJcijjJp",
        "outputId": "0c252632-8d97-4e1e-9ccd-36dab91b93ec"
      },
      "execution_count": null,
      "outputs": [
        {
          "output_type": "execute_result",
          "data": {
            "text/plain": [
              "Sequential(\n",
              "  (0): Linear(in_features=2, out_features=64, bias=True)\n",
              "  (1): ReLU()\n",
              "  (2): Linear(in_features=64, out_features=3, bias=True)\n",
              ")"
            ]
          },
          "metadata": {},
          "execution_count": 11
        }
      ]
    },
    {
      "cell_type": "markdown",
      "metadata": {
        "id": "J7nWGaNdSjKE"
      },
      "source": [
        "`Pytorch` nos ofrece funcionalidad para crear redes neuronales en el paquete `nn`. En este caso utilizamos la clase `Sequential` que nos permite definir una serie de capas de manera secuencial, justo lo que queremos para nuestro `MLP`. La clase `Linear` implementa el `Perceptrón`, mientras que `ReLU` implementa la función de activación `relu`. Igual que hemos hecho antes, utilizamos dos neuronas a la entrada, una capa oculta de 64 neuronas y 3 neuronas a la salida para la clasificación final. Ahora definimos nuestro algoritmo de optimización y la función de pérdida que usaremos. Para ello usamos el paquete `optim` y `nn` respectivamente."
      ]
    },
    {
      "cell_type": "code",
      "metadata": {
        "ExecuteTime": {
          "end_time": "2020-08-14T13:22:21.731363Z",
          "start_time": "2020-08-14T13:22:21.716368Z"
        },
        "id": "jmiJdd4tSjKE"
      },
      "source": [
        "optimizer = torch.optim.SGD(model.parameters(), lr=0.01)\n",
        "criterion = torch.nn.CrossEntropyLoss()"
      ],
      "execution_count": null,
      "outputs": []
    },
    {
      "cell_type": "markdown",
      "metadata": {
        "id": "dRDkz9bXSjKE"
      },
      "source": [
        "Por último, implementamos nuestro bucle de entrenamiento."
      ]
    },
    {
      "cell_type": "code",
      "metadata": {
        "ExecuteTime": {
          "end_time": "2020-08-14T13:22:21.795447Z",
          "start_time": "2020-08-14T13:22:21.732367Z"
        },
        "id": "An_cVB60SjKF",
        "outputId": "d09851c9-e1af-44d7-8b96-165c05146ec4",
        "colab": {
          "base_uri": "https://localhost:8080/"
        }
      },
      "source": [
        "epochs = 50\n",
        "batch_size = 10\n",
        "\n",
        "batches = len(X) // batch_size\n",
        "log_each = 1\n",
        "l = []\n",
        "for e in range(1,epochs+1):\n",
        "    _l = []\n",
        "    for b in range(batches):\n",
        "        x = torch.tensor(X_norm[b*batch_size:(b+1)*batch_size]).float()\n",
        "        y = torch.tensor(Y[b*batch_size:(b+1)*batch_size]).long()\n",
        "        optimizer.zero_grad()\n",
        "        y_pred = model(x)\n",
        "        loss = criterion(y_pred, y)\n",
        "        _l.append(loss.item())\n",
        "        loss.backward()\n",
        "        optimizer.step()\n",
        "    l.append(np.mean(_l))\n",
        "    if not e % log_each:\n",
        "        print(f'Epoch {e}/{epochs}, Loss: {np.mean(l):.4f}')"
      ],
      "execution_count": null,
      "outputs": [
        {
          "output_type": "stream",
          "name": "stdout",
          "text": [
            "Epoch 1/50, Loss: 0.9602\n",
            "Epoch 2/50, Loss: 0.8550\n",
            "Epoch 3/50, Loss: 0.7868\n",
            "Epoch 4/50, Loss: 0.7373\n",
            "Epoch 5/50, Loss: 0.6985\n",
            "Epoch 6/50, Loss: 0.6666\n",
            "Epoch 7/50, Loss: 0.6396\n",
            "Epoch 8/50, Loss: 0.6161\n",
            "Epoch 9/50, Loss: 0.5954\n",
            "Epoch 10/50, Loss: 0.5768\n",
            "Epoch 11/50, Loss: 0.5600\n",
            "Epoch 12/50, Loss: 0.5447\n",
            "Epoch 13/50, Loss: 0.5306\n",
            "Epoch 14/50, Loss: 0.5176\n",
            "Epoch 15/50, Loss: 0.5055\n",
            "Epoch 16/50, Loss: 0.4942\n",
            "Epoch 17/50, Loss: 0.4836\n",
            "Epoch 18/50, Loss: 0.4737\n",
            "Epoch 19/50, Loss: 0.4643\n",
            "Epoch 20/50, Loss: 0.4554\n",
            "Epoch 21/50, Loss: 0.4471\n",
            "Epoch 22/50, Loss: 0.4391\n",
            "Epoch 23/50, Loss: 0.4316\n",
            "Epoch 24/50, Loss: 0.4244\n",
            "Epoch 25/50, Loss: 0.4175\n",
            "Epoch 26/50, Loss: 0.4109\n",
            "Epoch 27/50, Loss: 0.4046\n",
            "Epoch 28/50, Loss: 0.3986\n",
            "Epoch 29/50, Loss: 0.3929\n",
            "Epoch 30/50, Loss: 0.3873\n",
            "Epoch 31/50, Loss: 0.3820\n",
            "Epoch 32/50, Loss: 0.3769\n",
            "Epoch 33/50, Loss: 0.3719\n",
            "Epoch 34/50, Loss: 0.3672\n",
            "Epoch 35/50, Loss: 0.3626\n",
            "Epoch 36/50, Loss: 0.3582\n",
            "Epoch 37/50, Loss: 0.3539\n",
            "Epoch 38/50, Loss: 0.3497\n",
            "Epoch 39/50, Loss: 0.3457\n",
            "Epoch 40/50, Loss: 0.3418\n",
            "Epoch 41/50, Loss: 0.3381\n",
            "Epoch 42/50, Loss: 0.3345\n",
            "Epoch 43/50, Loss: 0.3309\n",
            "Epoch 44/50, Loss: 0.3275\n",
            "Epoch 45/50, Loss: 0.3242\n",
            "Epoch 46/50, Loss: 0.3209\n",
            "Epoch 47/50, Loss: 0.3178\n",
            "Epoch 48/50, Loss: 0.3147\n",
            "Epoch 49/50, Loss: 0.3118\n",
            "Epoch 50/50, Loss: 0.3089\n"
          ]
        }
      ]
    },
    {
      "cell_type": "code",
      "metadata": {
        "ExecuteTime": {
          "end_time": "2020-08-14T13:22:21.955478Z",
          "start_time": "2020-08-14T13:22:21.796480Z"
        },
        "id": "Sak0YVOISjKF",
        "outputId": "94a53d6a-503a-4481-be62-3217a278cd68",
        "colab": {
          "base_uri": "https://localhost:8080/",
          "height": 319
        }
      },
      "source": [
        "# cálculo de predicciones\n",
        "print(X_new.shape)\n",
        "\n",
        "with torch.no_grad():\n",
        "    Z = model(torch.tensor(X_new).float())\n",
        "\n",
        "Z = np.argmax(softmax(Z.numpy()), axis=1)\n",
        "print(Z[1000])\n",
        "Z = Z.reshape(xx1.shape)\n",
        "plt.contourf(xx1, xx2, Z, alpha=0.3, cmap=cmap)\n",
        "plt.xlim(xx1.min(), xx1.max())\n",
        "plt.ylim(xx2.min(), xx2.max())\n",
        "plt.xlabel('petal length', fontsize=14)\n",
        "plt.ylabel('petal width', fontsize=14)\n",
        "classes = [\"Iris-Setosa\", \"Iris-Versicolor\", \"Iris-Virginica\"]\n",
        "for idx, cl in enumerate(np.unique(Y)):\n",
        "    plt.scatter(x=X[Y == cl, 0],\n",
        "                y=X[Y == cl, 1],\n",
        "                alpha=0.8,\n",
        "                c=colors[idx],\n",
        "                marker=markers[idx],\n",
        "                label=classes[cl],\n",
        "                edgecolor='black')\n",
        "plt.legend(loc='upper left', fontsize=14)\n",
        "plt.show()"
      ],
      "execution_count": null,
      "outputs": [
        {
          "output_type": "stream",
          "name": "stdout",
          "text": [
            "(86900, 2)\n",
            "0\n"
          ]
        },
        {
          "output_type": "display_data",
          "data": {
            "text/plain": [
              "<Figure size 432x288 with 1 Axes>"
            ],
            "image/png": "[encoded data removed]"
          },
          "metadata": {
            "needs_background": "light"
          }
        }
      ]
    },
    {
      "cell_type": "markdown",
      "metadata": {
        "id": "h91QoVg6SjKF"
      },
      "source": [
        "Como puedes observar, en `Pytorch` no tenemos disponibles funciones como `fit` o `predict` que `Keras` nos oferece. Esto significa que, en general, `Pytorch` requiere más implementación por nuestra parte (lo cual aumenta las posibilidades de introducir errores). Este es el principal motivo por el que mucha gente, sobre todo principiantes, eligen utilizar `Tensorflow` junto a `Keras`. Sin embargo, este misma propiedad le da `Pytorch` una flexibilidad enorme cuando lo comparamos con otros frameworks. Al final, como comentábamos al principio del post, dependerá de tu caso de uso y preferencias. Existen proyectos similiares a `Keras` para `Pytorch`, algunos ejemplos son [Pytorch Lightning](https://github.com/PyTorchLightning/pytorch-lightning) y [FastAI](https://github.com/fastai/fastai)."
      ]
    },
    {
      "cell_type": "markdown",
      "metadata": {
        "id": "esaiIhLgSjKF"
      },
      "source": [
        "> ⚡ ¿Te ves capaz de implementar en `Pytorch` un interfaz similar a la de `Keras`? Implementar tu propio `Keras` en `Pytorch` es un ejercicio muy interesante para aprender como funciona por dentro `Keras`, incluso si quieres tener tu propio framework flexible y potente."
      ]
    },
    {
      "cell_type": "markdown",
      "metadata": {
        "id": "DjzFqrQXSjKF"
      },
      "source": [
        "De nuevo, en este post hemos visto un simple ejemplo de como resolver los problemas que hemos visto anteriormente con estas nuevas herramientas. En futuros posts entraremos en mucho más detalle para conocer toda la funcionalidad que `Pytorch` nos oferece a la hora de diseñar, entrenar y poner en producción nuestras `redes neuronales`."
      ]
    },
    {
      "cell_type": "markdown",
      "metadata": {
        "id": "kq8gV-TJSjKF"
      },
      "source": [
        "## Interoperabilidad"
      ]
    },
    {
      "cell_type": "markdown",
      "metadata": {
        "id": "CuklW687SjKG"
      },
      "source": [
        "Antes de terminar me gustaría hacer una mención al concepto de interoperabilidad. Existen varios proyectos cuyo objetivo es el de estandarizar la manera en la que representamos `redes neuronales` de manera que, por ejemplo, podamos diseñar una red en `Tensorflow`, entrenarla en `Pytorch` y ponerla en producción en otro framework, como `CoreML` si estamos desarrollando una APP en iOS. De entre estos proyectos destaca [ONNX](https://onnx.ai/). Tanto `Tensorflow` como `Pytorch` soportan el guardado y cargado de redes neuronales en este formato, por lo que puede ser una buena solución si quieres compartir modelos entre varios frameworks."
      ]
    },
    {
      "cell_type": "markdown",
      "metadata": {
        "id": "GLm-J2baSjKG"
      },
      "source": [
        "## Resumen"
      ]
    },
    {
      "cell_type": "markdown",
      "metadata": {
        "id": "SNlggh86SjKG"
      },
      "source": [
        "En este post hemos hablado sobre frameworks de redes neuronales. Hemos visto qué le pedimos a un framework para trabajar con él (aunque en función de la aplicación en la que trabajemos es posible que tengamos que conformarnos con uno en particular) y cómo resolver los problemas que conocemos de posts anteriores y que ya hemos resuelto con nuestro propio framework implementado desde cero. Gracias a ello, ahora somos capaces de entender como funcionan los frameworks de terceros por dentro, lo cual nos permitirá de manera sencilla trabajar con ellos a la hora de entrenar modelos más complicados. En este post hemos hecho una pequeña introducción a `Tensorflow` y `Pytorch`, los frameworks más utilizados hoy en día. En futuros posts entraremos en detalle para conocer más a fondo estos frameworks y todas las opciones que nos ofrecen."
      ]
    }
  ]
}