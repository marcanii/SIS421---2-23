{
 "cells": [
  {
   "cell_type": "markdown",
   "metadata": {},
   "source": [
    "# Preparamos las imágenes para el marcado\n",
    "\n",
    "Preparamos las imágenes para el marcado de las clases de las imágenes."
   ]
  },
  {
   "cell_type": "markdown",
   "metadata": {},
   "source": [
    "### Cambiamos de formato las imágenes\n",
    "\n",
    "Primero transformacion las imágenes a un solo formato `.jpg` y `RGB`."
   ]
  },
  {
   "cell_type": "code",
   "execution_count": 1,
   "metadata": {},
   "outputs": [],
   "source": [
    "from PIL import Image\n",
    "import os\n",
    "\n",
    "def convert_images_to_jpg(dataset_path, output_path):\n",
    "    if not os.path.exists(output_path):\n",
    "        os.makedirs(output_path)\n",
    "    \n",
    "    for filename in os.listdir(dataset_path):\n",
    "        if filename.lower().endswith((\".png\", \".jpeg\", \".bmp\", \".gif\", \".tiff\", \".webp\", \"jpg\", \".jfif\")):\n",
    "            image_path = os.path.join(dataset_path, filename)\n",
    "            try:\n",
    "                img = Image.open(image_path)\n",
    "                img = img.convert(\"RGB\")  # Convertir a formato RGB antes de guardar como JPG\n",
    "                new_filename = os.path.splitext(filename)[0] + \".jpg\"\n",
    "                new_path = os.path.join(output_path, new_filename)\n",
    "                img.save(new_path, \"JPEG\")\n",
    "            except Exception as e:\n",
    "                print(f\"Error processing {image_path}: {e}\")\n",
    "                continue\n",
    "\n",
    "# Ruta a tu directorio de imágenes\n",
    "dataset_path = \"./Dataset/G5/\"\n",
    "output_path = \"./Dataset/G55/\"\n",
    "convert_images_to_jpg(dataset_path, output_path)"
   ]
  },
  {
   "cell_type": "markdown",
   "metadata": {},
   "source": [
    "### Redimensionamos las imágenes\n",
    "\n",
    "Redimensionamos las imágenes a un tamaño de `512x512` para que todas las imágenes tengan el mismo tamaño."
   ]
  },
  {
   "cell_type": "code",
   "execution_count": 2,
   "metadata": {},
   "outputs": [
    {
     "name": "stdout",
     "output_type": "stream",
     "text": [
      "¡Redimensionado completado!\n"
     ]
    }
   ],
   "source": [
    "def resize_images_in_folder(folder_path, output_folder_path):\n",
    "    # Crea la carpeta de salida si no existe\n",
    "    if not os.path.exists(output_folder_path):\n",
    "        os.makedirs(output_folder_path)\n",
    "\n",
    "    # Recorre todos los archivos en la carpeta\n",
    "    for filename in os.listdir(folder_path):\n",
    "        if filename.endswith(\".jpg\") or filename.endswith(\".png\"):\n",
    "            # Obtiene la ruta completa del archivo de entrada\n",
    "            input_image_path = os.path.join(folder_path, filename)\n",
    "\n",
    "            # Obtiene el nuevo nombre del archivo de salida\n",
    "            output_image_path = os.path.join(output_folder_path, filename)\n",
    "\n",
    "            # Abre la imagen utilizando Pillow\n",
    "            image = Image.open(input_image_path)\n",
    "\n",
    "            # Redimensiona la imagen al tamaño deseado (800x600)\n",
    "            resized_image = image.resize((512, 512))\n",
    "\n",
    "            # Guarda la imagen redimensionada\n",
    "            resized_image.save(output_image_path)\n",
    "\n",
    "    print(\"¡Redimensionado completado!\")\n",
    "\n",
    "folder_path = \"./Dataset/G55/\"\n",
    "output_folder_path = \"./Dataset/G5_512x512/\"\n",
    "resize_images_in_folder(folder_path, output_folder_path)"
   ]
  },
  {
   "cell_type": "markdown",
   "metadata": {},
   "source": [
    "### Cambiamos el nombre de las imágenes\n",
    "\n",
    "Cambiamos el nombre de las imágenes para que tengan un nombre único y no se repitan para el mejor manejo de las imágenes."
   ]
  },
  {
   "cell_type": "code",
   "execution_count": 3,
   "metadata": {},
   "outputs": [],
   "source": [
    "from PIL import Image\n",
    "import os\n",
    "\n",
    "def rename_images(input_path, output_path, start_index=1):\n",
    "    # Verifica si el directorio de salida existe, si no, créalo\n",
    "    if not os.path.exists(output_path):\n",
    "        os.makedirs(output_path)\n",
    "\n",
    "    # Enumera los archivos en el directorio de entrada\n",
    "    for idx, filename in enumerate(os.listdir(input_path)):\n",
    "        # Verifica si el archivo es una imagen JPG\n",
    "        if filename.lower().endswith(('.jpg')):\n",
    "            # Abre la imagen usando Pillow\n",
    "            with Image.open(os.path.join(input_path, filename)) as img:\n",
    "                # Construye el nuevo nombre del archivo\n",
    "                new_filename = f\"image{idx + start_index}.png\"\n",
    "                # Guarda la imagen como PNG en el directorio de salida\n",
    "                img.save(os.path.join(output_path, new_filename), format='PNG')\n",
    "                #print(f\"Renombrando {filename} a {new_filename}\")\n",
    "\n",
    "input_path = \"./Dataset/G5_512x512/\"\n",
    "output_path = \"./Dataset/G5_rename/\"\n",
    "rename_images(input_path, output_path, start_index=401)"
   ]
  },
  {
   "cell_type": "code",
   "execution_count": 10,
   "metadata": {},
   "outputs": [],
   "source": [
    "def rename_files(input_path, output_path):\n",
    "    # Verifica si el directorio de salida existe, si no, créalo\n",
    "    if not os.path.exists(output_path):\n",
    "        os.makedirs(output_path)\n",
    "\n",
    "    # Enumera los archivos en el directorio de entrada\n",
    "    for idx, filename in enumerate(os.listdir(input_path)):\n",
    "        # Verifica si el archivo es un archivo de texto\n",
    "        if filename.lower().endswith(('.txt')):\n",
    "            # Abre el archivo en modo texto\n",
    "            with open(os.path.join(input_path, filename), 'r') as f:\n",
    "                # Lee el contenido del archivo de texto\n",
    "                file_content = f.read()\n",
    "                f.close()\n",
    "\n",
    "            # Construye el nuevo nombre del archivo\n",
    "            new_filename = f\"image{idx + 1}{os.path.splitext(filename)[1]}\"\n",
    "\n",
    "            # Renombra el archivo de texto\n",
    "            os.rename(os.path.join(input_path, filename), os.path.join(output_path, new_filename))\n",
    "            #print(f\"Renombrando {filename} a {new_filename}\")\n",
    "\n",
    "input_path = \"./Dataset/Segundoparcialv4iyolov8/valid/labels/\"\n",
    "output_path = \"./Dataset/Segundoparcialv4iyolov8/valid/labels1/\"\n",
    "rename_files(input_path, output_path)"
   ]
  }
 ],
 "metadata": {
  "kernelspec": {
   "display_name": "cuda_user",
   "language": "python",
   "name": "python3"
  },
  "language_info": {
   "codemirror_mode": {
    "name": "ipython",
    "version": 3
   },
   "file_extension": ".py",
   "mimetype": "text/x-python",
   "name": "python",
   "nbconvert_exporter": "python",
   "pygments_lexer": "ipython3",
   "version": "3.11.3"
  }
 },
 "nbformat": 4,
 "nbformat_minor": 2
}
