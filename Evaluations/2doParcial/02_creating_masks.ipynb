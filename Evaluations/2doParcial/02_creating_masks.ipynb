{
 "cells": [
  {
   "cell_type": "code",
   "execution_count": 65,
   "metadata": {},
   "outputs": [
    {
     "name": "stdout",
     "output_type": "stream",
     "text": [
      "loading annotations into memory...\n",
      "Done (t=0.00s)\n",
      "creating index...\n",
      "index created!\n",
      "loading annotations into memory...\n",
      "Done (t=0.04s)\n",
      "creating index...\n",
      "index created!\n",
      "loading annotations into memory...\n",
      "Done (t=0.00s)\n",
      "creating index...\n",
      "index created!\n",
      "Cant. images test:  47\n",
      "Cant. images train:  717\n",
      "Cant. images valid:  48\n"
     ]
    }
   ],
   "source": [
    "import numpy as np\n",
    "import cv2\n",
    "from pycocotools.coco import COCO\n",
    "\n",
    "# Ruta al archivo de anotaciones COCO\n",
    "ann_file_test = './Dataset/Segundoparcialv7icoco-mmdetection/test/_annotations.coco.json'\n",
    "ann_file_train = './Dataset/Segundoparcialv7icoco-mmdetection/train/_annotations.coco.json'\n",
    "ann_file_val = './Dataset/Segundoparcialv7icoco-mmdetection/valid/_annotations.coco.json'\n",
    "\n",
    "# Inicializar el objeto COCO con el archivo de anotaciones\n",
    "coco_test = COCO(ann_file_test)\n",
    "coco_train = COCO(ann_file_train)\n",
    "coco_val = COCO(ann_file_val)\n",
    "#print(\"-------------------\")\n",
    "#print(coco.info())\n",
    "#print(\"-------------------\")\n",
    "\n",
    "# Obtener los identificadores de las imágenes en el conjunto de datos\n",
    "img_ids_test = coco_test.getImgIds()\n",
    "print(\"Cant. images test: \", len(img_ids_test))\n",
    "img_ids_train = coco_train.getImgIds()\n",
    "print(\"Cant. images train: \", len(img_ids_train))\n",
    "img_ids_val = coco_val.getImgIds()\n",
    "print(\"Cant. images valid: \", len(img_ids_val))"
   ]
  },
  {
   "cell_type": "code",
   "execution_count": 68,
   "metadata": {},
   "outputs": [],
   "source": [
    "def create_mask(coco, img_id, num_classes):\n",
    "    img_info = coco.loadImgs(img_id)[0]\n",
    "    ann_ids = coco.getAnnIds(imgIds=img_id)\n",
    "    annotations = coco.loadAnns(ann_ids)\n",
    "    a = img_info['file_name'].split('.')[0]\n",
    "    b = img_info['file_name'].split('.')[1]\n",
    "    c = img_info['file_name'].split('.')[2]\n",
    "    name_mask = a + '.' + b + '.' + c + '.png'\n",
    "    \n",
    "    # Crear una lista de máscaras para cada clase\n",
    "    masks = [np.zeros((img_info['height'], img_info['width']), dtype=np.uint8) for _ in range(num_classes)]\n",
    "    \n",
    "    # Rellenar las máscaras con las regiones de interés de las anotaciones COCO\n",
    "    for annotation in annotations:\n",
    "        segmentations = annotation['segmentation']\n",
    "        class_id = annotation['category_id'] - 1  # Identificador de clase\n",
    "        \n",
    "        for segmentation in segmentations:\n",
    "            # Desempaquetar las tuplas de las coordenadas de segmentación\n",
    "            points = np.array(segmentation, dtype=np.int32).reshape((-1, 2))\n",
    "            \n",
    "            # Convertir la segmentación en un polígono y asignar el valor de clase en la máscara\n",
    "            cv2.fillPoly(masks[class_id], [points], 1) # type: ignore\n",
    "    \n",
    "    # Concatenar las máscaras en un solo array tridimensional\n",
    "    mask = np.stack(masks, axis=-1)\n",
    "    \n",
    "    return mask, name_mask"
   ]
  },
  {
   "cell_type": "code",
   "execution_count": 74,
   "metadata": {},
   "outputs": [],
   "source": [
    "def generate_masks(num_classes):\n",
    "    for img_id in img_ids_test:\n",
    "        mask, name_mask = create_mask(coco_test, img_id, num_classes)\n",
    "        cv2.imwrite('./Dataset/Segundoparcialv7icoco-mmdetection/testmasks/' + name_mask, mask*255)\n",
    "    for img_id in img_ids_train:\n",
    "        mask, name_mask = create_mask(coco_train, img_id, num_classes)\n",
    "        cv2.imwrite('./Dataset/Segundoparcialv7icoco-mmdetection/trainmasks/' + name_mask, mask*255)\n",
    "    for img_id in img_ids_val:\n",
    "        mask, name_mask = create_mask(coco_val, img_id, num_classes)\n",
    "        cv2.imwrite('./Dataset/Segundoparcialv7icoco-mmdetection/validmasks/' + name_mask, mask*255)"
   ]
  },
  {
   "cell_type": "code",
   "execution_count": 75,
   "metadata": {},
   "outputs": [
    {
     "name": "stdout",
     "output_type": "stream",
     "text": [
      "Done\n"
     ]
    }
   ],
   "source": [
    "generate_masks(num_classes=3)\n",
    "print(\"Done\")"
   ]
  }
 ],
 "metadata": {
  "kernelspec": {
   "display_name": "cuda_user",
   "language": "python",
   "name": "python3"
  },
  "language_info": {
   "codemirror_mode": {
    "name": "ipython",
    "version": 3
   },
   "file_extension": ".py",
   "mimetype": "text/x-python",
   "name": "python",
   "nbconvert_exporter": "python",
   "pygments_lexer": "ipython3",
   "version": "3.11.6"
  }
 },
 "nbformat": 4,
 "nbformat_minor": 2
}
