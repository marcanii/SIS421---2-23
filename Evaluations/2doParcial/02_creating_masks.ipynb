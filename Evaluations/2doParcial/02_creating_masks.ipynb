{
 "cells": [
  {
   "cell_type": "markdown",
   "metadata": {},
   "source": [
    "# Creando máscaras\n",
    "\n",
    "Vamos a crear máscaras a partir del marcado realizado en roboflow (puntos)"
   ]
  },
  {
   "cell_type": "code",
   "execution_count": 1,
   "metadata": {},
   "outputs": [
    {
     "name": "stdout",
     "output_type": "stream",
     "text": [
      "loading annotations into memory...\n",
      "Done (t=0.08s)\n",
      "creating index...\n",
      "index created!\n",
      "loading annotations into memory...\n",
      "Done (t=0.06s)\n",
      "creating index...\n",
      "index created!\n",
      "loading annotations into memory...\n",
      "Done (t=0.02s)\n",
      "creating index...\n",
      "index created!\n",
      "Cant. images test:  50\n",
      "Cant. images train:  993\n",
      "Cant. images valid:  50\n"
     ]
    }
   ],
   "source": [
    "import numpy as np\n",
    "import cv2\n",
    "from pycocotools.coco import COCO\n",
    "\n",
    "# Ruta al archivo de anotaciones COCO\n",
    "ann_file_test = './Dataset/Segundoparcialv8icoco-mmdetection/test/_annotations.coco.json'\n",
    "ann_file_train = './Dataset/Segundoparcialv8icoco-mmdetection/train/_annotations.coco.json'\n",
    "ann_file_val = './Dataset/Segundoparcialv8icoco-mmdetection/valid/_annotations.coco.json'\n",
    "\n",
    "# Inicializar el objeto COCO con el archivo de anotaciones\n",
    "coco_test = COCO(ann_file_test)\n",
    "coco_train = COCO(ann_file_train)\n",
    "coco_val = COCO(ann_file_val)\n",
    "#print(\"-------------------\")\n",
    "#print(coco.info())\n",
    "#print(\"-------------------\")\n",
    "\n",
    "# Obtener los identificadores de las imágenes en el conjunto de datos\n",
    "img_ids_test = coco_test.getImgIds()\n",
    "print(\"Cant. images test: \", len(img_ids_test))\n",
    "img_ids_train = coco_train.getImgIds()\n",
    "print(\"Cant. images train: \", len(img_ids_train))\n",
    "img_ids_val = coco_val.getImgIds()\n",
    "print(\"Cant. images valid: \", len(img_ids_val))"
   ]
  },
  {
   "cell_type": "markdown",
   "metadata": {},
   "source": [
    "### Crear máscaras con one-hot encoding\n",
    "\n",
    "Vamos a crear máscaras a partir del marcado realizado en roboflow (puntos), pero en lugar de crear una máscara binaria, vamos a crear una máscara con one-hot encoding, es decir, una máscara con tantos canales como clases haya en el dataset. Esto nos permitirá entrenar la red con una sola salida, en lugar de una salida por clase.\n",
    "\n",
    "En nuestro caso solo tenemos 3 clases (cuaderno, sodas y ruedas), pero tenemos que tomar en cuenta el background por lo que la máscara tendrá 4 canales.\n",
    "\n",
    "Para esto creamos la funcion `create_one_hot_mask` que recibe como parámetros el path de coco, el id de la imagen y el número de clases.\n"
   ]
  },
  {
   "cell_type": "code",
   "execution_count": 45,
   "metadata": {},
   "outputs": [],
   "source": [
    "def create_one_hot_mask(coco, img_id, num_classes):\n",
    "    img_info = coco.loadImgs(img_id)[0]\n",
    "    ann_ids = coco.getAnnIds(imgIds=img_id)\n",
    "    annotations = coco.loadAnns(ann_ids)\n",
    "    a, b, c = img_info['file_name'].split('.')[:3]\n",
    "    name_mask = f\"{a}.{b}.{c}.png\"\n",
    "    \n",
    "    # Crear una lista de máscaras binarias para cada clase (incluyendo el fondo)\n",
    "    masks = [np.zeros((img_info['height'], img_info['width']), dtype=np.uint8) for _ in range(num_classes)]\n",
    "    \n",
    "    # Rellenar las máscaras binarias con las regiones de interés de las anotaciones COCO\n",
    "    for annotation in annotations:\n",
    "        segmentations = annotation['segmentation']\n",
    "        class_id = annotation['category_id']  # Identificador de clase\n",
    "        \n",
    "        for segmentation in segmentations:\n",
    "            # Desempaquetar las tuplas de las coordenadas de segmentación\n",
    "            points = np.array(segmentation, dtype=np.int32).reshape((-1, 2))\n",
    "            \n",
    "            # Convertir la segmentación en un polígono y asignar 1 a las regiones de interés en la máscara\n",
    "            cv2.fillPoly(masks[class_id - 1], [points], 1) # type:ignore class_id - 1 para ajustar el índice (comenzando desde 0)\n",
    "    \n",
    "    # Concatenar las máscaras en un solo array tridimensional (one-hot encoding)\n",
    "    mask = np.stack(masks, axis=-1)\n",
    "    \n",
    "    # Agregar el fondo como la cuarta clase en el one-hot encoding (todos los canales son 0 para el fondo)\n",
    "    mask[..., num_classes - 1] = np.logical_not(mask.any(axis=-1)).astype(np.uint8)\n",
    "    \n",
    "    return mask, name_mask"
   ]
  },
  {
   "cell_type": "markdown",
   "metadata": {},
   "source": [
    "### Generar máscaras\n",
    "\n",
    "Esta función recorre todas las imágenes del dataset y genera las máscaras con one-hot encoding. Las máscaras se guardan en su respectivas carpetas."
   ]
  },
  {
   "cell_type": "code",
   "execution_count": 35,
   "metadata": {},
   "outputs": [],
   "source": [
    "def generate_masks(num_classes):\n",
    "    # crear mascara para test\n",
    "    for img_id in img_ids_test:\n",
    "        mask, name_mask = create_one_hot_mask(coco_test, img_id, num_classes)\n",
    "        cv2.imwrite('./Dataset/Segundoparcialv8icoco-mmdetection/testmasks/' + name_mask, mask*255)\n",
    "    # crear mascara para train\n",
    "    for img_id in img_ids_train:\n",
    "        mask, name_mask = create_one_hot_mask(coco_train, img_id, num_classes)\n",
    "        cv2.imwrite('./Dataset/Segundoparcialv8icoco-mmdetection/trainmasks/' + name_mask, mask*255)\n",
    "    # crear mascara para valid\n",
    "    for img_id in img_ids_val:\n",
    "        mask, name_mask = create_one_hot_mask(coco_val, img_id, num_classes)\n",
    "        cv2.imwrite('./Dataset/Segundoparcialv8icoco-mmdetection/validmasks/' + name_mask, mask*255)"
   ]
  },
  {
   "cell_type": "code",
   "execution_count": 46,
   "metadata": {},
   "outputs": [
    {
     "name": "stdout",
     "output_type": "stream",
     "text": [
      "Done\n"
     ]
    }
   ],
   "source": [
    "# generamos las mascaras\n",
    "generate_masks(num_classes=4)\n",
    "print(\"Done\")"
   ]
  }
 ],
 "metadata": {
  "kernelspec": {
   "display_name": "cuda_user",
   "language": "python",
   "name": "python3"
  },
  "language_info": {
   "codemirror_mode": {
    "name": "ipython",
    "version": 3
   },
   "file_extension": ".py",
   "mimetype": "text/x-python",
   "name": "python",
   "nbconvert_exporter": "python",
   "pygments_lexer": "ipython3",
   "version": "3.11.6"
  }
 },
 "nbformat": 4,
 "nbformat_minor": 2
}
