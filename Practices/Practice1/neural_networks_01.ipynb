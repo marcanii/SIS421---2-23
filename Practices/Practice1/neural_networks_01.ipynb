{
 "cells": [
  {
   "cell_type": "code",
   "execution_count": 1,
   "metadata": {},
   "outputs": [],
   "source": [
    "import torch\n",
    "import torch.nn as nn\n",
    "import torch.optim as optim\n",
    "import numpy as np"
   ]
  },
  {
   "cell_type": "code",
   "execution_count": 2,
   "metadata": {},
   "outputs": [
    {
     "name": "stdout",
     "output_type": "stream",
     "text": [
      "X_train shape:  (2293, 10)\n",
      "Y_train shape:  (2293,)\n"
     ]
    }
   ],
   "source": [
    "# cargando datos de entrenamiento\n",
    "train_data = np.loadtxt('water_quality_train.csv', delimiter=',', skiprows=1)\n",
    "X_train, y_train = train_data[:, 0:10], train_data[:, 10]\n",
    "print(\"X_train shape: \", X_train.shape)\n",
    "print(\"Y_train shape: \", y_train.shape)"
   ]
  },
  {
   "cell_type": "code",
   "execution_count": 3,
   "metadata": {},
   "outputs": [
    {
     "name": "stdout",
     "output_type": "stream",
     "text": [
      "X_test shape:  (983, 10)\n"
     ]
    }
   ],
   "source": [
    "# cargando datos de test\n",
    "test_data = np.loadtxt('water_quality_test.csv', delimiter=',', skiprows=1)\n",
    "X_test = test_data[:, :]\n",
    "print(\"X_test shape: \", X_test.shape)"
   ]
  },
  {
   "cell_type": "code",
   "execution_count": 4,
   "metadata": {},
   "outputs": [],
   "source": [
    "# Convertir los datos a tensores de PyTorch\n",
    "X_train = torch.tensor(X_train, dtype=torch.float32)\n",
    "y_train = torch.tensor(y_train, dtype=torch.float32)\n",
    "y_train = y_train.view(-1, 1)  # Cambiar la forma de y_train a [n_samples, 1]\n",
    "\n",
    "\n",
    "# Definir la clase de la red MLP\n",
    "class MLP(nn.Module):\n",
    "    def __init__(self, input_size, hidden_size, output_size):\n",
    "        super(MLP, self).__init__()\n",
    "        self.hidden_layer = nn.Linear(input_size, hidden_size)\n",
    "        self.output_layer = nn.Linear(hidden_size, output_size)\n",
    "\n",
    "    def forward(self, x):\n",
    "        hidden_output = torch.relu(self.hidden_layer(x))\n",
    "        output = self.output_layer(hidden_output)\n",
    "        return output"
   ]
  },
  {
   "cell_type": "code",
   "execution_count": 5,
   "metadata": {},
   "outputs": [
    {
     "name": "stdout",
     "output_type": "stream",
     "text": [
      "Epoch [100/1000], Loss: 116.6100\n",
      "Epoch [200/1000], Loss: 8.6260\n",
      "Epoch [300/1000], Loss: 4.7739\n",
      "Epoch [400/1000], Loss: 2.9144\n",
      "Epoch [500/1000], Loss: 2.0695\n",
      "Epoch [600/1000], Loss: 1.6513\n",
      "Epoch [700/1000], Loss: 1.3722\n",
      "Epoch [800/1000], Loss: 1.1606\n",
      "Epoch [900/1000], Loss: 0.9979\n",
      "Epoch [1000/1000], Loss: 0.8624\n",
      "Entrenamiento completado.\n"
     ]
    }
   ],
   "source": [
    "\n",
    "# Parámetros de la red\n",
    "input_size = 10\n",
    "hidden_size = 40\n",
    "output_size = 1\n",
    "\n",
    "# Crear una instancia de la red\n",
    "mlp_model = MLP(input_size, hidden_size, output_size)\n",
    "\n",
    "# Definir función de pérdida y optimizador\n",
    "criterion = nn.MSELoss()  # Usar error cuadrático medio para tareas de regresión\n",
    "optimizer = optim.Adam(mlp_model.parameters(), lr=0.001)\n",
    "\n",
    "# Entrenamiento de la red\n",
    "num_epochs = 1000\n",
    "\n",
    "for epoch in range(num_epochs):\n",
    "    # Paso de adelante y retropropagación\n",
    "    outputs = mlp_model(X_train)\n",
    "    loss = criterion(outputs, y_train)\n",
    "    optimizer.zero_grad()\n",
    "    loss.backward()\n",
    "    optimizer.step()\n",
    "\n",
    "    if (epoch + 1) % 100 == 0:\n",
    "        print(f'Epoch [{epoch+1}/{num_epochs}], Loss: {loss.item():.4f}')\n",
    "\n",
    "print(\"Entrenamiento completado.\")"
   ]
  },
  {
   "cell_type": "code",
   "execution_count": 6,
   "metadata": {},
   "outputs": [],
   "source": [
    "def predict_probabilities(model, input_data):\n",
    "    model.eval()\n",
    "    with torch.no_grad():\n",
    "        input_tensor = input_data.clone().detach().requires_grad_(False)\n",
    "        output = model(input_tensor)\n",
    "        probabilities = torch.sigmoid(output)\n",
    "    return probabilities"
   ]
  },
  {
   "cell_type": "code",
   "execution_count": 7,
   "metadata": {},
   "outputs": [
    {
     "name": "stdout",
     "output_type": "stream",
     "text": [
      "Probabilidades predichas: tensor([0.5789])\n"
     ]
    }
   ],
   "source": [
    "# ...\n",
    "\n",
    "X_new = X_test[10]  # Ejemplo de nuevos datos de entrada\n",
    "\n",
    "# Convertir los datos de entrada a tensores PyTorch\n",
    "X_new_tensor = torch.tensor(X_new, dtype=torch.float32)\n",
    "\n",
    "predicted_probabilities = predict_probabilities(mlp_model, X_new_tensor)\n",
    "\n",
    "print(\"Probabilidades predichas:\", predicted_probabilities)"
   ]
  }
 ],
 "metadata": {
  "kernelspec": {
   "display_name": "Python 3",
   "language": "python",
   "name": "python3"
  },
  "language_info": {
   "codemirror_mode": {
    "name": "ipython",
    "version": 3
   },
   "file_extension": ".py",
   "mimetype": "text/x-python",
   "name": "python",
   "nbconvert_exporter": "python",
   "pygments_lexer": "ipython3",
   "version": "3.10.9"
  },
  "orig_nbformat": 4
 },
 "nbformat": 4,
 "nbformat_minor": 2
}
