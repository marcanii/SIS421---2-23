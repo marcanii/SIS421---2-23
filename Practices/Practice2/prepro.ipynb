{
 "cells": [
  {
   "cell_type": "code",
   "execution_count": 1,
   "metadata": {},
   "outputs": [],
   "source": [
    "from PIL import Image\n",
    "import os\n",
    "\n",
    "def convert_images_to_jpg(dataset_path, output_path):\n",
    "    if not os.path.exists(output_path):\n",
    "        os.makedirs(output_path)\n",
    "    \n",
    "    for filename in os.listdir(dataset_path):\n",
    "        if filename.lower().endswith((\".png\", \".jpeg\", \".bmp\", \".gif\", \".tiff\", \".webp\", \"jpg\", \".jfif\")):\n",
    "            image_path = os.path.join(dataset_path, filename)\n",
    "            try:\n",
    "                img = Image.open(image_path)\n",
    "                img = img.convert(\"RGB\")  # Convertir a formato RGB antes de guardar como JPG\n",
    "                new_filename = os.path.splitext(filename)[0] + \".jpg\"\n",
    "                new_path = os.path.join(output_path, new_filename)\n",
    "                img.save(new_path, \"JPEG\")\n",
    "            except Exception as e:\n",
    "                print(f\"Error processing {image_path}: {e}\")\n",
    "                continue\n",
    "\n",
    "# Ruta a tu directorio de imágenes\n",
    "dataset_path = \"./Datacamera/car/\"\n",
    "output_path = \"./Datacamera/car1/\"\n",
    "convert_images_to_jpg(dataset_path, output_path)"
   ]
  },
  {
   "cell_type": "code",
   "execution_count": 2,
   "metadata": {},
   "outputs": [
    {
     "name": "stdout",
     "output_type": "stream",
     "text": [
      "¡Redimensionado completado!\n"
     ]
    }
   ],
   "source": [
    "def resize_images_in_folder(folder_path, output_folder_path):\n",
    "    # Crea la carpeta de salida si no existe\n",
    "    if not os.path.exists(output_folder_path):\n",
    "        os.makedirs(output_folder_path)\n",
    "\n",
    "    # Recorre todos los archivos en la carpeta\n",
    "    for filename in os.listdir(folder_path):\n",
    "        if filename.endswith(\".jpg\") or filename.endswith(\".png\"):\n",
    "            # Obtiene la ruta completa del archivo de entrada\n",
    "            input_image_path = os.path.join(folder_path, filename)\n",
    "\n",
    "            # Obtiene el nuevo nombre del archivo de salida\n",
    "            output_image_path = os.path.join(output_folder_path, filename)\n",
    "\n",
    "            # Abre la imagen utilizando Pillow\n",
    "            image = Image.open(input_image_path)\n",
    "\n",
    "            # Redimensiona la imagen al tamaño deseado (800x600)\n",
    "            resized_image = image.resize((600, 800))\n",
    "\n",
    "            # Guarda la imagen redimensionada\n",
    "            resized_image.save(output_image_path)\n",
    "\n",
    "    print(\"¡Redimensionado completado!\")\n",
    "\n",
    "folder_path = \"./Datacamera/car1/\"\n",
    "output_folder_path = \"./Datacamera/car2/\"\n",
    "resize_images_in_folder(folder_path, output_folder_path)"
   ]
  },
  {
   "cell_type": "code",
   "execution_count": 5,
   "metadata": {},
   "outputs": [],
   "source": [
    "def rename_images(input_path, output_path):\n",
    "    # Verifica si el directorio de salida existe, si no, créalo\n",
    "    if not os.path.exists(output_path):\n",
    "        os.makedirs(output_path)\n",
    "\n",
    "    # Enumera los archivos en el directorio de entrada\n",
    "    for idx, filename in enumerate(os.listdir(input_path)):\n",
    "        # Verifica si el archivo es una imagen\n",
    "        if filename.lower().endswith(('.png', '.jpg', '.jpeg', '.gif', '.bmp')):\n",
    "            # Abre la imagen usando Pillow\n",
    "            with Image.open(os.path.join(input_path, filename)) as img:\n",
    "                # Construye el nuevo nombre del archivo\n",
    "                new_filename = f\"vehicle{idx + 1}{os.path.splitext(filename)[1]}\"\n",
    "                # Guarda la imagen con el nuevo nombre en el directorio de salida\n",
    "                img.save(os.path.join(output_path, new_filename))\n",
    "                #print(f\"Renombrando {filename} a {new_filename}\")\n",
    "\n",
    "input_path = \"./Datacamera/vehicle/\"\n",
    "output_path = \"./Datacamera/vehicle1/\"\n",
    "rename_images(input_path, output_path)"
   ]
  }
 ],
 "metadata": {
  "kernelspec": {
   "display_name": "cuda_user",
   "language": "python",
   "name": "python3"
  },
  "language_info": {
   "codemirror_mode": {
    "name": "ipython",
    "version": 3
   },
   "file_extension": ".py",
   "mimetype": "text/x-python",
   "name": "python",
   "nbconvert_exporter": "python",
   "pygments_lexer": "ipython3",
   "version": "3.11.4"
  }
 },
 "nbformat": 4,
 "nbformat_minor": 2
}
