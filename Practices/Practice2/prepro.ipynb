{
 "cells": [
  {
   "cell_type": "code",
   "execution_count": 15,
   "metadata": {},
   "outputs": [],
   "source": [
    "from PIL import Image\n",
    "import os\n",
    "\n",
    "def convert_images_to_jpg(dataset_path, output_path):\n",
    "    if not os.path.exists(output_path):\n",
    "        os.makedirs(output_path)\n",
    "    \n",
    "    for filename in os.listdir(dataset_path):\n",
    "        if filename.lower().endswith((\".png\", \".jpeg\", \".bmp\", \".gif\", \".tiff\", \".webp\", \"jpg\")):\n",
    "            image_path = os.path.join(dataset_path, filename)\n",
    "            try:\n",
    "                img = Image.open(image_path)\n",
    "                img = img.convert(\"RGB\")  # Convertir a formato RGB antes de guardar como JPG\n",
    "                new_filename = os.path.splitext(filename)[0] + \".jpg\"\n",
    "                new_path = os.path.join(output_path, new_filename)\n",
    "                img.save(new_path, \"JPEG\")\n",
    "            except Exception as e:\n",
    "                print(f\"Error processing {image_path}: {e}\")\n",
    "                continue\n",
    "\n",
    "# Ruta a tu directorio de imágenes\n",
    "dataset_path = \"C:\\\\6° Semestre\\Inteligencia Artificial II\\SIS421---2-23\\Practices\\practice2\\Datacamera\"\n",
    "output_path = \"C:\\\\6° Semestre\\Inteligencia Artificial II\\SIS421---2-23\\Practices\\practice2\\Datacamera1\"\n",
    "convert_images_to_jpg(dataset_path, output_path)"
   ]
  },
  {
   "cell_type": "code",
   "execution_count": 18,
   "metadata": {},
   "outputs": [
    {
     "name": "stdout",
     "output_type": "stream",
     "text": [
      "Error al convertir ./Datacamera1/ a RGB: [Errno 13] Permission denied: './Datacamera1/'\n"
     ]
    }
   ],
   "source": [
    "def convert_rgba_to_rgb(image_path, output_path):\n",
    "    try:\n",
    "        rgba_image = Image.open(image_path)\n",
    "        rgb_image = rgba_image.convert(\"RGB\")\n",
    "        rgb_image.save(output_path, \"JPG\")\n",
    "        print(f\"Imagen {image_path} convertida a RGB y guardada en {output_path}\")\n",
    "    except Exception as e:\n",
    "        print(f\"Error al convertir {image_path} a RGB: {e}\")\n",
    "\n",
    "dataset_path = \"./Datacamera1/\"   \n",
    "output_path = \"./Datacamera2/\"\n",
    "convert_rgba_to_rgb(dataset_path, output_path)"
   ]
  },
  {
   "cell_type": "code",
   "execution_count": 20,
   "metadata": {},
   "outputs": [
    {
     "name": "stdout",
     "output_type": "stream",
     "text": [
      "¡Redimensionado completado!\n"
     ]
    }
   ],
   "source": [
    "def resize_images_in_folder(folder_path, output_folder_path):\n",
    "    # Crea la carpeta de salida si no existe\n",
    "    if not os.path.exists(output_folder_path):\n",
    "        os.makedirs(output_folder_path)\n",
    "\n",
    "    # Recorre todos los archivos en la carpeta\n",
    "    for filename in os.listdir(folder_path):\n",
    "        if filename.endswith(\".jpg\") or filename.endswith(\".png\"):\n",
    "            # Obtiene la ruta completa del archivo de entrada\n",
    "            input_image_path = os.path.join(folder_path, filename)\n",
    "\n",
    "            # Obtiene el nuevo nombre del archivo de salida\n",
    "            output_image_path = os.path.join(output_folder_path, filename)\n",
    "\n",
    "            # Abre la imagen utilizando Pillow\n",
    "            image = Image.open(input_image_path)\n",
    "\n",
    "            # Redimensiona la imagen al tamaño deseado (800x600)\n",
    "            resized_image = image.resize((600, 800))\n",
    "\n",
    "            # Guarda la imagen redimensionada\n",
    "            resized_image.save(output_image_path)\n",
    "\n",
    "    print(\"¡Redimensionado completado!\")\n",
    "\n",
    "folder_path = \"C:\\\\6° Semestre\\Inteligencia Artificial II\\SIS421---2-23\\Practices\\practice2\\Datacamera2\"\n",
    "output_folder_path = \"C:\\\\6° Semestre\\Inteligencia Artificial II\\SIS421---2-23\\Practices\\practice2\\Datacamera3\"\n",
    "resize_images_in_folder(folder_path, output_folder_path)"
   ]
  }
 ],
 "metadata": {
  "kernelspec": {
   "display_name": "cuda_user",
   "language": "python",
   "name": "python3"
  },
  "language_info": {
   "codemirror_mode": {
    "name": "ipython",
    "version": 3
   },
   "file_extension": ".py",
   "mimetype": "text/x-python",
   "name": "python",
   "nbconvert_exporter": "python",
   "pygments_lexer": "ipython3",
   "version": "3.11.4"
  }
 },
 "nbformat": 4,
 "nbformat_minor": 2
}
